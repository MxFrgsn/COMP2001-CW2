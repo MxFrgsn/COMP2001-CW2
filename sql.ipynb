{
 "cells": [
  {
   "cell_type": "code",
   "execution_count": null,
   "metadata": {},
   "outputs": [],
   "source": [
    "import pyodbc\n",
    "server = 'DIST-6-505.uopnet.plymouth.ac.uk'\n",
    "database = 'COMP2001_MFerguson'\n",
    "username = 'MFerguson'\n",
    "password = 'GjiF140*'\n",
    "driver = '{ODBC Driver 17 for SQL Server}'\n",
    "\n",
    "conn_str = (\n",
    "    f'DRIVER={driver};'\n",
    "    f'SERVER={server};'\n",
    "    f'DATABASE={database};'\n",
    "    f'UID={username};'\n",
    "    f'PWD={password};'\n",
    "    'Encrypt=Yes;'\n",
    "    'TrustServerCertificate=Yes;'\n",
    "    'Connection Timeout=30;'\n",
    "    'Trusted_Connection=No;'\n",
    ")\n",
    "conn = pyodbc.connect(conn_str)\n",
    "cursor = conn.cursor()"
   ]
  },
  {
   "cell_type": "code",
   "execution_count": null,
   "metadata": {},
   "outputs": [],
   "source": [
    "# CW2 schema\n",
    "cursor.execute('CREATE SCHEMA CW2') \n",
    "conn.commit()"
   ]
  },
  {
   "cell_type": "code",
   "execution_count": null,
   "metadata": {},
   "outputs": [],
   "source": [
    "cursor.execute('''\n",
    "CREATE TABLE CW2.Trail (\n",
    "    trail_id VARCHAR(8) PRIMARY KEY, \n",
    "    location_id VARCHAR(8) NOT NULL,\n",
    "    trail_name VARCHAR(50) NOT NULL,\n",
    "    summary VARCHAR(200) NOT NULL,\n",
    "    description VARCHAR(1500) NOT NULL,\n",
    "    traffic VARCHAR(8) NOT NULL,\n",
    "    difficulty VARCHAR(8) NOT NULL,\n",
    "    length DECIMAL(7,2) NOT NULL,           \n",
    "    duration DECIMAL(4,2) NOT NULL,\n",
    "    elevation_gain DECIMAL(4,0) NOT NULL,\n",
    "    route_type VARCHAR(8) NOT NULL,\n",
    "    \n",
    "    CHECK (trail_id LIKE '[T][R][L][0-9][0-9][0-9][0-9][0-9]'), \n",
    "    CHECK (LEN(trail_name) >= 5 AND LEN(trail_name) <= 50),\n",
    "    CHECK (LEN(summary) >= 10),\n",
    "    CHECK (LEN(description) >= 100 OR LEN(description) = 0),\n",
    "    CHECK (lower(traffic)= 'heavy' OR lower(traffic) = 'moderate' OR lower(traffic) = 'light'),\n",
    "    CHECK (lower(difficulty) = 'hard' OR lower(difficulty) = 'moderate' OR lower(difficulty_rating) = 'easy'),  \n",
    "    CHECK (length > 0 AND length = ROUND(length, 2)),\n",
    "    CHECK (duration LIKE'[0-9][0-9]:[0-9][0-9]'),\n",
    "    CHECK (elevation_gain >=0),\n",
    "    CHECK (lower(route_type) = 'out & back' OR lower(route_type) = 'loop' OR\n",
    "    lower(route_type) = 'point to point'),\n",
    "\n",
    "    CONSTRAINT FK_location_id FOREIGN KEY (location_id) REFERENCES CW2.Location(location_id)\n",
    "\n",
    ")\n",
    "''')\n",
    "    \n"
   ]
  },
  {
   "cell_type": "code",
   "execution_count": null,
   "metadata": {},
   "outputs": [],
   "source": [
    "cursor.execute('''\n",
    "CREATE TABLE CW2.[Users] (\n",
    "    user_id VARCHAR(8) PRIMARY KEY,\n",
    "    username VARCHAR(255) NOT NULL,\n",
    "    email VARCHAR(255) NOT NULL,\n",
    "    [password] VARCHAR(255) NOT NULL,\n",
    "    role VARCHAR(255) NOT NULL \n",
    "    \n",
    "    CHECK (user_id LIKE '[U][S][R][0-9][0-9][0-9][0-9][0-9]')\n",
    "    CHECK (LEN(username) >= 5 AND LEN(username) <= 255)\n",
    "    CHECK (LEN([password])>=8)\n",
    "    CHECK (role IN lower('admin', 'user'))\n",
    ")\n",
    "''')\n"
   ]
  },
  {
   "cell_type": "code",
   "execution_count": null,
   "metadata": {},
   "outputs": [],
   "source": [
    "cursor.execute('''\n",
    "CREATE TABLE CW2.Trail_Ownership (\n",
    "    trail_id VARCHAR(8) NOT NULL,\n",
    "    user_id VARCHAR(8) NOT NULL,\n",
    "    PRIMARY KEY (trail_id, user_id),\n",
    "    \n",
    "    CONSTRAINT FK_trail_id FOREIGN KEY (trail_id) REFERENCES CW2.Trail(trail_id),\n",
    "    CONSTRAINT FK_user_id FOREIGN KEY (user_id) REFERENCES CW2.[Users](user_id)\n",
    ")\n",
    "''')"
   ]
  },
  {
   "cell_type": "code",
   "execution_count": null,
   "metadata": {},
   "outputs": [],
   "source": [
    "cursor.execute('''\n",
    "CREATE TABLE CW2.Attraction (\n",
    "    attraction_id VARCHAR(8) PRIMARY KEY,\n",
    "    attraction_name VARCHAR(50) NOT NULL,\n",
    "\n",
    "    CHECK (attraction_id LIKE '[A][T][T][0-9][0-9][0-9][0-9][0-9]')\n",
    "    CHECK (LEN(attraction_name) >= 3)               \n",
    ")\n",
    "''')"
   ]
  },
  {
   "cell_type": "code",
   "execution_count": null,
   "metadata": {},
   "outputs": [],
   "source": []
  },
  {
   "cell_type": "code",
   "execution_count": null,
   "metadata": {},
   "outputs": [
    {
     "ename": "ProgrammingError",
     "evalue": "Attempt to use a closed connection.",
     "output_type": "error",
     "traceback": [
      "\u001b[1;31m---------------------------------------------------------------------------\u001b[0m",
      "\u001b[1;31mProgrammingError\u001b[0m                          Traceback (most recent call last)",
      "Cell \u001b[1;32mIn[12], line 1\u001b[0m\n\u001b[1;32m----> 1\u001b[0m \u001b[43mconn\u001b[49m\u001b[38;5;241;43m.\u001b[39;49m\u001b[43mclose\u001b[49m\u001b[43m(\u001b[49m\u001b[43m)\u001b[49m\n",
      "\u001b[1;31mProgrammingError\u001b[0m: Attempt to use a closed connection."
     ]
    }
   ],
   "source": [
    "conn.close()"
   ]
  }
 ],
 "metadata": {
  "kernelspec": {
   "display_name": "Python 3",
   "language": "python",
   "name": "python3"
  },
  "language_info": {
   "codemirror_mode": {
    "name": "ipython",
    "version": 3
   },
   "file_extension": ".py",
   "mimetype": "text/x-python",
   "name": "python",
   "nbconvert_exporter": "python",
   "pygments_lexer": "ipython3",
   "version": "3.12.7"
  }
 },
 "nbformat": 4,
 "nbformat_minor": 2
}
