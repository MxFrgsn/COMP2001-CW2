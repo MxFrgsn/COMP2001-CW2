{
 "cells": [
  {
   "cell_type": "code",
   "execution_count": 5,
   "metadata": {},
   "outputs": [],
   "source": [
    "import pyodbc\n",
    "# Connect to the database\n",
    "server = 'DIST-6-505.uopnet.plymouth.ac.uk'\n",
    "database = 'COMP2001_MFerguson'\n",
    "username = 'MFerguson'\n",
    "password = 'GjiF140*'\n",
    "driver = '{ODBC Driver 17 for SQL Server}'\n",
    "\n",
    "conn_str = (\n",
    "    f'DRIVER={driver};'\n",
    "    f'SERVER={server};'\n",
    "    f'DATABASE={database};'\n",
    "    f'UID={username};'\n",
    "    f'PWD={password};'\n",
    "    'Encrypt=Yes;'\n",
    "    'TrustServerCertificate=Yes;'\n",
    "    'Connection Timeout=30;'\n",
    "    'Trusted_Connection=No;'\n",
    ")\n",
    "conn = pyodbc.connect(conn_str)\n",
    "# Create a cursor from the connectiob, this is used to execute queries\n",
    "cursor = conn.cursor()"
   ]
  },
  {
   "cell_type": "code",
   "execution_count": null,
   "metadata": {},
   "outputs": [],
   "source": [
    "# CW2 schema\n",
    "cursor.execute('CREATE SCHEMA CW2') \n",
    "conn.commit()"
   ]
  }
 ],
 "metadata": {
  "kernelspec": {
   "display_name": "Python 3",
   "language": "python",
   "name": "python3"
  },
  "language_info": {
   "codemirror_mode": {
    "name": "ipython",
    "version": 3
   },
   "file_extension": ".py",
   "mimetype": "text/x-python",
   "name": "python",
   "nbconvert_exporter": "python",
   "pygments_lexer": "ipython3",
   "version": "3.12.7"
  }
 },
 "nbformat": 4,
 "nbformat_minor": 2
}
