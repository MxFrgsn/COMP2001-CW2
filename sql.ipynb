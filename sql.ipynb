{
 "cells": [
  {
   "cell_type": "code",
   "execution_count": 2,
   "metadata": {},
   "outputs": [],
   "source": [
    "import pyodbc\n",
    "server = 'DIST-6-505.uopnet.plymouth.ac.uk'\n",
    "database = 'COMP2001_MFerguson'\n",
    "username = 'MFerguson'\n",
    "password = 'GjiF140*'\n",
    "driver = '{ODBC Driver 17 for SQL Server}'\n",
    "\n",
    "conn_str = (\n",
    "    f'DRIVER={driver};'\n",
    "    f'SERVER={server};'\n",
    "    f'DATABASE={database};'\n",
    "    f'UID={username};'\n",
    "    f'PWD={password};'\n",
    "    'Encrypt=Yes;'\n",
    "    'TrustServerCertificate=Yes;'\n",
    "    'Connection Timeout=30;'\n",
    "    'Trusted_Connection=No;'\n",
    ")\n",
    "conn = pyodbc.connect(conn_str)\n",
    "cursor = conn.cursor()"
   ]
  },
  {
   "cell_type": "code",
   "execution_count": 4,
   "metadata": {},
   "outputs": [],
   "source": [
    "cursor.execute('''\n",
    "CREATE TABLE CW2.[User] (\n",
    "    user_id VARCHAR(8) PRIMARY KEY,\n",
    "    username VARCHAR(255) NOT NULL,\n",
    "    email VARCHAR(255) NOT NULL,\n",
    "    [password] VARCHAR(255) NOT NULL,\n",
    "    role VARCHAR(8) NOT NULL,\n",
    "    \n",
    "    CHECK (user_id LIKE '[U][S][R][0-9][0-9][0-9][0-9][0-9]'),\n",
    "    CHECK (LEN(username) >= 5 AND LEN(username) <= 255),\n",
    "    CHECK (email LIKE '%_@_%.__%'),\n",
    "    CHECK (LEN([password])>=8),\n",
    "    CHECK (role = 'admin' OR role = 'user')\n",
    ")\n",
    "''')\n",
    "conn.commit()"
   ]
  },
  {
   "cell_type": "code",
   "execution_count": 5,
   "metadata": {},
   "outputs": [],
   "source": [
    "cursor.execute('''\n",
    "INSERT INTO CW2.[User] (user_id, username, email, [password], role)\n",
    "VALUES\n",
    "('USR00001','Admin','admin@gmail.com','AdM1NpQsW0Rd','admin'),\n",
    "('USR00002','Tim Berners-Lee','tim@plymouth.ac.uk','COMP2001!', 'user'),\n",
    "('USR00003','Grace Hopper','grace@plymouth.ac.uk','ISAD123!', 'user'),\n",
    "('USR00004','Ada Lovelace','ada@plymouth.ac.uk','insecurePassword','user');\n",
    "''')\n",
    "conn.commit()"
   ]
  },
  {
   "cell_type": "code",
   "execution_count": 6,
   "metadata": {},
   "outputs": [],
   "source": [
    "cursor.execute('''\n",
    "CREATE TABLE CW2.Location_Point (\n",
    "    location_point_id VARCHAR(8) PRIMARY KEY,\n",
    "    latitude DECIMAL(9,6) NOT NULL,\n",
    "    longitude DECIMAL(9,6) NOT NULL,\n",
    "    description VARCHAR(255),      \n",
    "    CHECK (location_point_id LIKE '[L][P][T][0-9][0-9][0-9][0-9][0-9]'),\n",
    "    CHECK (latitude BETWEEN -90 AND 90),\n",
    "    CHECK (longitude BETWEEN -180 AND 180),             \n",
    ")\n",
    "''')\n",
    "conn.commit()"
   ]
  },
  {
   "cell_type": "code",
   "execution_count": 7,
   "metadata": {},
   "outputs": [],
   "source": [
    "cursor.execute('''\n",
    "INSERT INTO CW2.Location_Point (location_point_id, latitude, longitude, description)\n",
    "VALUES\n",
    "('LPT00001', 50.123456, -4.234567, 'Scenic viewpoint on the hill'),\n",
    "('LPT00002', 51.654321, -3.876543, 'Lake surrounded by forest'),\n",
    "('LPT00003', 52.987654, -2.123456, 'Historic site with ruins'),\n",
    "('LPT00004', 53.345678, -1.654321, 'Trailhead with parking area');\n",
    "''')\n",
    "conn.commit()\n"
   ]
  },
  {
   "cell_type": "code",
   "execution_count": 11,
   "metadata": {},
   "outputs": [
    {
     "ename": "ProgrammingError",
     "evalue": "('42S01', \"[42S01] [Microsoft][ODBC Driver 17 for SQL Server][SQL Server]There is already an object named 'Trail' in the database. (2714) (SQLExecDirectW)\")",
     "output_type": "error",
     "traceback": [
      "\u001b[1;31m---------------------------------------------------------------------------\u001b[0m",
      "\u001b[1;31mProgrammingError\u001b[0m                          Traceback (most recent call last)",
      "Cell \u001b[1;32mIn[11], line 1\u001b[0m\n\u001b[1;32m----> 1\u001b[0m \u001b[43mcursor\u001b[49m\u001b[38;5;241;43m.\u001b[39;49m\u001b[43mexecute\u001b[49m\u001b[43m(\u001b[49m\u001b[38;5;124;43m'''\u001b[39;49m\n\u001b[0;32m      2\u001b[0m \u001b[38;5;124;43mCREATE TABLE CW2.Trail (\u001b[39;49m\n\u001b[0;32m      3\u001b[0m \u001b[38;5;124;43m    trail_id VARCHAR(8) PRIMARY KEY, \u001b[39;49m\n\u001b[0;32m      4\u001b[0m \u001b[38;5;124;43m    trail_name VARCHAR(255) NOT NULL UNIQUE,\u001b[39;49m\n\u001b[0;32m      5\u001b[0m \u001b[38;5;124;43m    summary VARCHAR(255),\u001b[39;49m\n\u001b[0;32m      6\u001b[0m \u001b[38;5;124;43m    description VARCHAR(1500),\u001b[39;49m\n\u001b[0;32m      7\u001b[0m \u001b[38;5;124;43m    location VARCHAR(255) NOT NULL,\u001b[39;49m\n\u001b[0;32m      8\u001b[0m \u001b[38;5;124;43m    traffic VARCHAR(8) NOT NULL,\u001b[39;49m\n\u001b[0;32m      9\u001b[0m \u001b[38;5;124;43m    difficulty VARCHAR(8) NOT NULL,\u001b[39;49m\n\u001b[0;32m     10\u001b[0m \u001b[38;5;124;43m    length DECIMAL(7,2) NOT NULL,           \u001b[39;49m\n\u001b[0;32m     11\u001b[0m \u001b[38;5;124;43m    duration VARCHAR(5) NOT NULL,\u001b[39;49m\n\u001b[0;32m     12\u001b[0m \u001b[38;5;124;43m    elevation_gain INT NOT NULL,\u001b[39;49m\n\u001b[0;32m     13\u001b[0m \u001b[38;5;124;43m    route_type VARCHAR(14) NOT NULL,\u001b[39;49m\n\u001b[0;32m     14\u001b[0m \u001b[38;5;124;43m               \u001b[39;49m\n\u001b[0;32m     15\u001b[0m \u001b[38;5;124;43m    owner_id VARCHAR(8) NOT NULL, \u001b[39;49m\n\u001b[0;32m     16\u001b[0m \u001b[38;5;124;43m    location_pt_1 VARCHAR(8) NOT NULL,\u001b[39;49m\n\u001b[0;32m     17\u001b[0m \u001b[38;5;124;43m    location_pt_2 VARCHAR(8) NOT NULL,\u001b[39;49m\n\u001b[0;32m     18\u001b[0m \u001b[38;5;124;43m    location_pt_3 VARCHAR(8) NOT NULL,\u001b[39;49m\n\u001b[0;32m     19\u001b[0m \u001b[38;5;124;43m    location_pt_4 VARCHAR(8) NOT NULL,\u001b[39;49m\n\u001b[0;32m     20\u001b[0m \u001b[38;5;124;43m    location_pt_5 VARCHAR(8) NOT NULL,\u001b[39;49m\n\u001b[0;32m     21\u001b[0m \u001b[38;5;124;43m                   \u001b[39;49m\n\u001b[0;32m     22\u001b[0m \u001b[38;5;124;43m    CHECK (trail_id LIKE \u001b[39;49m\u001b[38;5;124;43m'\u001b[39;49m\u001b[38;5;124;43m[T][R][L][0-9][0-9][0-9][0-9][0-9]\u001b[39;49m\u001b[38;5;124;43m'\u001b[39;49m\u001b[38;5;124;43m), \u001b[39;49m\n\u001b[0;32m     23\u001b[0m \u001b[38;5;124;43m    CHECK (LEN(trail_name) >= 5 AND LEN(trail_name) <= 50),\u001b[39;49m\n\u001b[0;32m     24\u001b[0m \u001b[38;5;124;43m    CHECK (LEN(summary) >= 10),\u001b[39;49m\n\u001b[0;32m     25\u001b[0m \u001b[38;5;124;43m    CHECK (LEN(description) >= 50 OR LEN(description) = 0),\u001b[39;49m\n\u001b[0;32m     26\u001b[0m \u001b[38;5;124;43m    CHECK (lower(traffic)= \u001b[39;49m\u001b[38;5;124;43m'\u001b[39;49m\u001b[38;5;124;43mheavy\u001b[39;49m\u001b[38;5;124;43m'\u001b[39;49m\u001b[38;5;124;43m OR lower(traffic) = \u001b[39;49m\u001b[38;5;124;43m'\u001b[39;49m\u001b[38;5;124;43mmoderate\u001b[39;49m\u001b[38;5;124;43m'\u001b[39;49m\u001b[38;5;124;43m OR lower(traffic) = \u001b[39;49m\u001b[38;5;124;43m'\u001b[39;49m\u001b[38;5;124;43mlight\u001b[39;49m\u001b[38;5;124;43m'\u001b[39;49m\u001b[38;5;124;43m),\u001b[39;49m\n\u001b[0;32m     27\u001b[0m \u001b[38;5;124;43m    CHECK (lower(difficulty) = \u001b[39;49m\u001b[38;5;124;43m'\u001b[39;49m\u001b[38;5;124;43mhard\u001b[39;49m\u001b[38;5;124;43m'\u001b[39;49m\u001b[38;5;124;43m OR lower(difficulty) = \u001b[39;49m\u001b[38;5;124;43m'\u001b[39;49m\u001b[38;5;124;43mmoderate\u001b[39;49m\u001b[38;5;124;43m'\u001b[39;49m\u001b[38;5;124;43m OR lower(difficulty) = \u001b[39;49m\u001b[38;5;124;43m'\u001b[39;49m\u001b[38;5;124;43measy\u001b[39;49m\u001b[38;5;124;43m'\u001b[39;49m\u001b[38;5;124;43m),  \u001b[39;49m\n\u001b[0;32m     28\u001b[0m \u001b[38;5;124;43m    CHECK (length > 0 AND length = ROUND(length, 2)),\u001b[39;49m\n\u001b[0;32m     29\u001b[0m \u001b[38;5;124;43m    CHECK (duration LIKE\u001b[39;49m\u001b[38;5;124;43m'\u001b[39;49m\u001b[38;5;124;43m[0-9][0-9]:[0-9][0-9]\u001b[39;49m\u001b[38;5;124;43m'\u001b[39;49m\u001b[38;5;124;43m),\u001b[39;49m\n\u001b[0;32m     30\u001b[0m \u001b[38;5;124;43m    CHECK (elevation_gain >=0),\u001b[39;49m\n\u001b[0;32m     31\u001b[0m \u001b[38;5;124;43m    CHECK (lower(route_type) = \u001b[39;49m\u001b[38;5;124;43m'\u001b[39;49m\u001b[38;5;124;43mout & back\u001b[39;49m\u001b[38;5;124;43m'\u001b[39;49m\u001b[38;5;124;43m OR lower(route_type) = \u001b[39;49m\u001b[38;5;124;43m'\u001b[39;49m\u001b[38;5;124;43mloop\u001b[39;49m\u001b[38;5;124;43m'\u001b[39;49m\u001b[38;5;124;43m OR\u001b[39;49m\n\u001b[0;32m     32\u001b[0m \u001b[38;5;124;43m    lower(route_type) = \u001b[39;49m\u001b[38;5;124;43m'\u001b[39;49m\u001b[38;5;124;43mpoint to point\u001b[39;49m\u001b[38;5;124;43m'\u001b[39;49m\u001b[38;5;124;43m),\u001b[39;49m\n\u001b[0;32m     33\u001b[0m \u001b[38;5;124;43m               \u001b[39;49m\n\u001b[0;32m     34\u001b[0m \u001b[38;5;124;43m    CONSTRAINT FK_owner_id FOREIGN KEY (owner_id) REFERENCES CW2.[User](user_id),\u001b[39;49m\n\u001b[0;32m     35\u001b[0m \u001b[38;5;124;43m    CONSTRAINT fk_location_pt_1 FOREIGN KEY (location_pt_1) REFERENCES CW2.Location_Point(location_point_id),\u001b[39;49m\n\u001b[0;32m     36\u001b[0m \u001b[38;5;124;43m    CONSTRAINT fk_location_pt_2 FOREIGN KEY (location_pt_2) REFERENCES CW2.Location_Point(location_point_id),\u001b[39;49m\n\u001b[0;32m     37\u001b[0m \u001b[38;5;124;43m    CONSTRAINT fk_location_pt_3 FOREIGN KEY (location_pt_3) REFERENCES CW2.Location_Point(location_point_id),\u001b[39;49m\n\u001b[0;32m     38\u001b[0m \u001b[38;5;124;43m    CONSTRAINT fk_location_pt_4 FOREIGN KEY (location_pt_4) REFERENCES CW2.Location_Point(location_point_id),\u001b[39;49m\n\u001b[0;32m     39\u001b[0m \u001b[38;5;124;43m    CONSTRAINT fk_location_pt_5 FOREIGN KEY (location_pt_5) REFERENCES CW2.Location_Point(location_point_id)\u001b[39;49m\n\u001b[0;32m     40\u001b[0m \n\u001b[0;32m     41\u001b[0m \u001b[38;5;124;43m)\u001b[39;49m\n\u001b[0;32m     42\u001b[0m \u001b[38;5;124;43m'''\u001b[39;49m\u001b[43m)\u001b[49m\n\u001b[0;32m     43\u001b[0m conn\u001b[38;5;241m.\u001b[39mcommit()\n",
      "\u001b[1;31mProgrammingError\u001b[0m: ('42S01', \"[42S01] [Microsoft][ODBC Driver 17 for SQL Server][SQL Server]There is already an object named 'Trail' in the database. (2714) (SQLExecDirectW)\")"
     ]
    }
   ],
   "source": [
    "cursor.execute('''\n",
    "CREATE TABLE CW2.Trail (\n",
    "    trail_id VARCHAR(8) PRIMARY KEY, \n",
    "    trail_name VARCHAR(255) NOT NULL UNIQUE,\n",
    "    summary VARCHAR(255),\n",
    "    description VARCHAR(1500),\n",
    "    location VARCHAR(255) NOT NULL,\n",
    "    traffic VARCHAR(8) NOT NULL,\n",
    "    difficulty VARCHAR(8) NOT NULL,\n",
    "    length DECIMAL(7,2) NOT NULL,           \n",
    "    duration VARCHAR(5) NOT NULL,\n",
    "    elevation_gain INT NOT NULL,\n",
    "    route_type VARCHAR(14) NOT NULL,\n",
    "               \n",
    "    owner_id VARCHAR(8) NOT NULL, \n",
    "    location_pt_1 VARCHAR(8) NOT NULL,\n",
    "    location_pt_2 VARCHAR(8) NOT NULL,\n",
    "    location_pt_3 VARCHAR(8) NOT NULL,\n",
    "    location_pt_4 VARCHAR(8) NOT NULL,\n",
    "    location_pt_5 VARCHAR(8) NOT NULL,\n",
    "                   \n",
    "    CHECK (trail_id LIKE '[T][R][L][0-9][0-9][0-9][0-9][0-9]'), \n",
    "    CHECK (LEN(trail_name) >= 5 AND LEN(trail_name) <= 50),\n",
    "    CHECK (LEN(summary) >= 10),\n",
    "    CHECK (LEN(description) >= 50 OR LEN(description) = 0),\n",
    "    CHECK (lower(traffic)= 'heavy' OR lower(traffic) = 'moderate' OR lower(traffic) = 'light'),\n",
    "    CHECK (lower(difficulty) = 'hard' OR lower(difficulty) = 'moderate' OR lower(difficulty) = 'easy'),  \n",
    "    CHECK (length > 0 AND length = ROUND(length, 2)),\n",
    "    CHECK (duration LIKE'[0-9][0-9]:[0-9][0-9]'),\n",
    "    CHECK (elevation_gain >=0),\n",
    "    CHECK (lower(route_type) = 'out & back' OR lower(route_type) = 'loop' OR\n",
    "    lower(route_type) = 'point to point'),\n",
    "               \n",
    "    CONSTRAINT FK_owner_id FOREIGN KEY (owner_id) REFERENCES CW2.[User](user_id),\n",
    "    CONSTRAINT fk_location_pt_1 FOREIGN KEY (location_pt_1) REFERENCES CW2.Location_Point(location_point_id),\n",
    "    CONSTRAINT fk_location_pt_2 FOREIGN KEY (location_pt_2) REFERENCES CW2.Location_Point(location_point_id),\n",
    "    CONSTRAINT fk_location_pt_3 FOREIGN KEY (location_pt_3) REFERENCES CW2.Location_Point(location_point_id),\n",
    "    CONSTRAINT fk_location_pt_4 FOREIGN KEY (location_pt_4) REFERENCES CW2.Location_Point(location_point_id),\n",
    "    CONSTRAINT fk_location_pt_5 FOREIGN KEY (location_pt_5) REFERENCES CW2.Location_Point(location_point_id)\n",
    "\n",
    ")\n",
    "''')\n",
    "conn.commit()\n"
   ]
  },
  {
   "cell_type": "code",
   "execution_count": 20,
   "metadata": {},
   "outputs": [],
   "source": [
    "cursor.execute('''\n",
    "INSERT INTO CW2.Trail (\n",
    "    trail_id, trail_name, summary, description, location, traffic,\n",
    "    difficulty, length, duration, elevation_gain, route_type, owner_id,\n",
    "    location_pt_1, location_pt_2, location_pt_3, location_pt_4, location_pt_5\n",
    ")\n",
    "VALUES\n",
    "('TRL00001', 'Forest Walk', 'A scenic walk through dense forest',\n",
    " 'This trail takes you through a beautiful forest with diverse wildlife and flora.', 'Plymouth, Devon, UK','moderate',\n",
    " 'easy', 5.50, '02:30', 300, 'loop', 'USR00002',\n",
    " 'LPT00001', 'LPT00002', 'LPT00003', 'LPT00004', 'LPT00001'),\n",
    "('TRL00002','Mountain Hike', 'A challenging hike with rewarding views',\n",
    " 'A strenuous but rewarding trail up the mountain with breathtaking views at the summit.', 'Los Angeles, California, USA', 'heavy', \n",
    " 'hard', 12.30, '05:45', 1200, 'out & back', 'USR00003',\n",
    " 'LPT00002', 'LPT00004', 'LPT00001', 'LPT00002', 'LPT00003'),\n",
    "('TRL00003', 'Coastal Path', 'A leisurely walk along the coast', \n",
    " 'This trail offers stunning views of the ocean and a chance to visit sandy beaches.', 'Lisbon, Portugal', 'light',\n",
    " 'moderate', 8.70, '03:15', 150, 'point to point', 'USR00004',\n",
    " 'LPT00003', 'LPT00004', 'LPT00001', 'LPT00002', 'LPT00003'),\n",
    "('TRL00004', 'River Valley Trek', 'A trek along a scenic river valley',\n",
    " 'Follow the river through a picturesque valley with plenty of photo opportunities.', 'Moscow, Russia','moderate',\n",
    " 'easy', 10.20, '04:00', 400, 'loop', 'USR00002',\n",
    " 'LPT00004', 'LPT00001', 'LPT00002', 'LPT00003', 'LPT00004');\n",
    "\n",
    "''')\n",
    "conn.commit()"
   ]
  },
  {
   "cell_type": "code",
   "execution_count": 21,
   "metadata": {},
   "outputs": [],
   "source": [
    "cursor.execute('''\n",
    "CREATE TABLE CW2.Attraction (\n",
    "    attraction_id VARCHAR(8) PRIMARY KEY,\n",
    "    attraction_name VARCHAR(50) NOT NULL,\n",
    "\n",
    "    CHECK (attraction_id LIKE '[A][T][T][0-9][0-9][0-9][0-9][0-9]'),\n",
    "    CHECK (LEN(attraction_name) >= 3)               \n",
    ")\n",
    "''')\n",
    "conn.commit()"
   ]
  },
  {
   "cell_type": "code",
   "execution_count": 22,
   "metadata": {},
   "outputs": [],
   "source": [
    "cursor.execute('''\n",
    "INSERT INTO CW2.Attraction (attraction_id, attraction_name)\n",
    "VALUES\n",
    "('ATT00001', 'Waterfall'),\n",
    "('ATT00002', 'Viewpoint'),\n",
    "('ATT00003', 'Historic Ruins'),\n",
    "('ATT00004', 'Picnic Spot');\n",
    "''')\n",
    "conn.commit()\n"
   ]
  },
  {
   "cell_type": "code",
   "execution_count": 23,
   "metadata": {},
   "outputs": [],
   "source": [
    "cursor.execute('''\n",
    "CREATE TABLE CW2.Trail_Attraction (\n",
    "    trail_id VARCHAR(8) NOT NULL,\n",
    "    attraction_id VARCHAR(8) NOT NULL,\n",
    "    PRIMARY KEY (trail_id, attraction_id),\n",
    "    \n",
    "    CONSTRAINT FK_trail_id_attraction FOREIGN KEY (trail_id) REFERENCES CW2.Trail(trail_id),\n",
    "    CONSTRAINT FK_attraction_id FOREIGN KEY (attraction_id) REFERENCES CW2.Attraction(attraction_id)\n",
    ")\n",
    "''')\n",
    "conn.commit()"
   ]
  },
  {
   "cell_type": "code",
   "execution_count": 24,
   "metadata": {},
   "outputs": [],
   "source": [
    "cursor.execute('''\n",
    "INSERT INTO CW2.Trail_Attraction (trail_id, attraction_id)\n",
    "VALUES\n",
    "('TRL00001', 'ATT00001'),\n",
    "('TRL00002', 'ATT00002'),\n",
    "('TRL00003', 'ATT00003'),\n",
    "('TRL00004', 'ATT00004'),\n",
    "('TRL00001', 'ATT00002'),\n",
    "('TRL00002', 'ATT00004'),\n",
    "('TRL00003', 'ATT00001');\n",
    "''')\n",
    "conn.commit()\n",
    "\n"
   ]
  },
  {
   "cell_type": "code",
   "execution_count": 3,
   "metadata": {},
   "outputs": [],
   "source": [
    "cursor.execute('''\n",
    "DROP TABLE CW2.Trail_Attraction\n",
    "DROP TABLE CW2.Trail\n",
    "DROP TABLE CW2.Location_Point\n",
    "DROP TABLE CW2.Attraction\n",
    "DROP TABLE CW2.Location\n",
    "DROP TABLE CW2.[User]\n",
    "''')\n",
    "conn.commit()"
   ]
  }
 ],
 "metadata": {
  "kernelspec": {
   "display_name": "Python 3",
   "language": "python",
   "name": "python3"
  },
  "language_info": {
   "codemirror_mode": {
    "name": "ipython",
    "version": 3
   },
   "file_extension": ".py",
   "mimetype": "text/x-python",
   "name": "python",
   "nbconvert_exporter": "python",
   "pygments_lexer": "ipython3",
   "version": "3.12.7"
  }
 },
 "nbformat": 4,
 "nbformat_minor": 2
}
