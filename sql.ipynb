{
 "cells": [
  {
   "cell_type": "code",
   "execution_count": 4,
   "metadata": {},
   "outputs": [],
   "source": [
    "import pyodbc\n",
    "server = 'DIST-6-505.uopnet.plymouth.ac.uk'\n",
    "database = 'COMP2001_MFerguson'\n",
    "username = 'MFerguson'\n",
    "password = 'GjiF140*'\n",
    "driver = '{ODBC Driver 17 for SQL Server}'\n",
    "\n",
    "conn_str = (\n",
    "    f'DRIVER={driver};'\n",
    "    f'SERVER={server};'\n",
    "    f'DATABASE={database};'\n",
    "    f'UID={username};'\n",
    "    f'PWD={password};'\n",
    "    'Encrypt=Yes;'\n",
    "    'TrustServerCertificate=Yes;'\n",
    "    'Connection Timeout=30;'\n",
    "    'Trusted_Connection=No;'\n",
    ")\n",
    "conn = pyodbc.connect(conn_str)\n",
    "cursor = conn.cursor()"
   ]
  },
  {
   "cell_type": "code",
   "execution_count": 18,
   "metadata": {},
   "outputs": [],
   "source": [
    "cursor.execute('''\n",
    "CREATE TABLE CW2.Location (\n",
    "    location_id VARCHAR(8) PRIMARY KEY,\n",
    "    country VARCHAR(50) NOT NULL,\n",
    "    county VARCHAR(50) NOT NULL,\n",
    "    city VARCHAR(50) NOT NULL,\n",
    "    \n",
    "    CHECK (location_id LIKE '[L][O][C][0-9][0-9][0-9][0-9][0-9]'),\n",
    "    CHECK (LEN(country) >= 3),\n",
    "    CHECK (LEN(county) >= 3),\n",
    "    CHECK (LEN(city) >= 3)\n",
    ")\n",
    "''')\n",
    "conn.commit()"
   ]
  },
  {
   "cell_type": "code",
   "execution_count": 24,
   "metadata": {},
   "outputs": [],
   "source": [
    "cursor.execute('''\n",
    "CREATE TABLE CW2.Trail (\n",
    "    trail_id VARCHAR(8) PRIMARY KEY, \n",
    "    location_id VARCHAR(8) NOT NULL,\n",
    "    trail_name VARCHAR(50) NOT NULL,\n",
    "    summary VARCHAR(200) NOT NULL,\n",
    "    description VARCHAR(1500) NOT NULL,\n",
    "    traffic VARCHAR(8) NOT NULL,\n",
    "    difficulty VARCHAR(8) NOT NULL,\n",
    "    length DECIMAL(7,2) NOT NULL,           \n",
    "    duration DECIMAL(4,2) NOT NULL,\n",
    "    elevation_gain INT NOT NULL,\n",
    "    route_type VARCHAR(8) NOT NULL,\n",
    "               \n",
    "    owner_id VARCHAR(8) NOT NULL, \n",
    "    location_pt_1 VARCHAR(8) NOT NULL,\n",
    "    location_pt_2 VARCHAR(8) NOT NULL,\n",
    "    location_pt_3 VARCHAR(8) NOT NULL,\n",
    "    location_pt_4 VARCHAR(8) NOT NULL,\n",
    "    location_pt_5 VARCHAR(8) NOT NULL,\n",
    "                   \n",
    "    CHECK (trail_id LIKE '[T][R][L][0-9][0-9][0-9][0-9][0-9]'), \n",
    "    CHECK (LEN(trail_name) >= 5 AND LEN(trail_name) <= 50),\n",
    "    CHECK (LEN(summary) >= 10),\n",
    "    CHECK (LEN(description) >= 100 OR LEN(description) = 0),\n",
    "    CHECK (lower(traffic)= 'heavy' OR lower(traffic) = 'moderate' OR lower(traffic) = 'light'),\n",
    "    CHECK (lower(difficulty) = 'hard' OR lower(difficulty) = 'moderate' OR lower(difficulty) = 'easy'),  \n",
    "    CHECK (length > 0 AND length = ROUND(length, 2)),\n",
    "    CHECK (duration LIKE'[0-9][0-9]:[0-9][0-9]'),\n",
    "    CHECK (elevation_gain >=0),\n",
    "    CHECK (lower(route_type) = 'out & back' OR lower(route_type) = 'loop' OR\n",
    "    lower(route_type) = 'point to point'),\n",
    "\n",
    "    CONSTRAINT FK_location_id FOREIGN KEY (location_id) REFERENCES CW2.Location(location_id),\n",
    "    CONSTRAINT FK_owner_id FOREIGN KEY (owner_id) REFERENCES CW2.[User](user_id),\n",
    "    CONSTRAINT fk_location_pt_1 FOREIGN KEY (location_pt_1) REFERENCES CW2.Location(location_id),\n",
    "    CONSTRAINT fk_location_pt_2 FOREIGN KEY (location_pt_2) REFERENCES CW2.Location(location_id),\n",
    "    CONSTRAINT fk_location_pt_3 FOREIGN KEY (location_pt_3) REFERENCES CW2.Location(location_id),\n",
    "    CONSTRAINT fk_location_pt_4 FOREIGN KEY (location_pt_4) REFERENCES CW2.Location(location_id),\n",
    "    CONSTRAINT fk_location_pt_5 FOREIGN KEY (location_pt_5) REFERENCES CW2.Location(location_id)\n",
    "\n",
    ")\n",
    "''')\n",
    "conn.commit()\n"
   ]
  },
  {
   "cell_type": "code",
   "execution_count": 16,
   "metadata": {},
   "outputs": [],
   "source": [
    "cursor.execute('''\n",
    "CREATE TABLE CW2.[User] (\n",
    "    user_id VARCHAR(8) PRIMARY KEY,\n",
    "    username VARCHAR(255) NOT NULL,\n",
    "    email VARCHAR(255) NOT NULL,\n",
    "    [password] VARCHAR(255) NOT NULL,\n",
    "    role VARCHAR(8) NOT NULL,\n",
    "    \n",
    "    CHECK (user_id LIKE '[U][S][R][0-9][0-9][0-9][0-9][0-9]'),\n",
    "    CHECK (LEN(username) >= 5 AND LEN(username) <= 255),\n",
    "    CHECK (email LIKE '%_@_%.__%'),\n",
    "    CHECK (LEN([password])>=8),\n",
    "    CHECK (role = 'admin' OR role = 'user')\n",
    ")\n",
    "''')\n",
    "conn.commit()\n"
   ]
  },
  {
   "cell_type": "code",
   "execution_count": null,
   "metadata": {},
   "outputs": [],
   "source": [
    "cursor.execute('''\n",
    "CREATE TABLE CW2.Location_Point (\n",
    "    location_point_id VARCHAR(8) PRIMARY KEY,\n",
    "    lagitude DECIMAL(9,6) NOT NULL,\n",
    "    longitude DECIMAL(9,6) NOT NULL,\n",
    "    description VARCHAR(200) NOT NULL,                \n",
    ")\n",
    "''')\n",
    "conn.commit()"
   ]
  },
  {
   "cell_type": "code",
   "execution_count": 22,
   "metadata": {},
   "outputs": [],
   "source": [
    "cursor.execute('''\n",
    "CREATE TABLE CW2.Attraction (\n",
    "    attraction_id VARCHAR(8) PRIMARY KEY,\n",
    "    attraction_name VARCHAR(50) NOT NULL,\n",
    "\n",
    "    CHECK (attraction_id LIKE '[A][T][T][0-9][0-9][0-9][0-9][0-9]'),\n",
    "    CHECK (LEN(attraction_name) >= 3)               \n",
    ")\n",
    "''')\n",
    "conn.commit()"
   ]
  },
  {
   "cell_type": "code",
   "execution_count": 25,
   "metadata": {},
   "outputs": [],
   "source": [
    "cursor.execute('''\n",
    "CREATE TABLE CW2.Trail_Attraction (\n",
    "    trail_id VARCHAR(8) NOT NULL,\n",
    "    attraction_id VARCHAR(8) NOT NULL,\n",
    "    PRIMARY KEY (trail_id, attraction_id),\n",
    "    \n",
    "    CONSTRAINT FK_trail_id_attraction FOREIGN KEY (trail_id) REFERENCES CW2.Trail(trail_id),\n",
    "    CONSTRAINT FK_attraction_id FOREIGN KEY (attraction_id) REFERENCES CW2.Attraction(attraction_id)\n",
    ")\n",
    "''')\n",
    "conn.commit()"
   ]
  },
  {
   "cell_type": "code",
   "execution_count": 15,
   "metadata": {},
   "outputs": [
    {
     "ename": "ProgrammingError",
     "evalue": "('42S02', \"[42S02] [Microsoft][ODBC Driver 17 for SQL Server][SQL Server]Cannot drop the table 'CW2.Trail_Attraction', because it does not exist or you do not have permission. (3701) (SQLExecDirectW)\")",
     "output_type": "error",
     "traceback": [
      "\u001b[1;31m---------------------------------------------------------------------------\u001b[0m",
      "\u001b[1;31mProgrammingError\u001b[0m                          Traceback (most recent call last)",
      "Cell \u001b[1;32mIn[15], line 1\u001b[0m\n\u001b[1;32m----> 1\u001b[0m \u001b[43mcursor\u001b[49m\u001b[38;5;241;43m.\u001b[39;49m\u001b[43mexecute\u001b[49m\u001b[43m(\u001b[49m\u001b[38;5;124;43m'''\u001b[39;49m\n\u001b[0;32m      2\u001b[0m \u001b[38;5;124;43mDROP TABLE CW2.Trail_Attraction\u001b[39;49m\n\u001b[0;32m      3\u001b[0m \u001b[38;5;124;43mDROP TABLE CW2.Trail_Ownership\u001b[39;49m\n\u001b[0;32m      4\u001b[0m \u001b[38;5;124;43mDROP TABLE CW2.Trail\u001b[39;49m\n\u001b[0;32m      5\u001b[0m \u001b[38;5;124;43mDROP TABLE CW2.Attraction\u001b[39;49m\n\u001b[0;32m      6\u001b[0m \u001b[38;5;124;43mDROP TABLE CW2.Location\u001b[39;49m\n\u001b[0;32m      7\u001b[0m \u001b[38;5;124;43mDROP TABLE CW2.[User]\u001b[39;49m\n\u001b[0;32m      8\u001b[0m \u001b[38;5;124;43m'''\u001b[39;49m\u001b[43m)\u001b[49m\n\u001b[0;32m      9\u001b[0m conn\u001b[38;5;241m.\u001b[39mcommit()\n",
      "\u001b[1;31mProgrammingError\u001b[0m: ('42S02', \"[42S02] [Microsoft][ODBC Driver 17 for SQL Server][SQL Server]Cannot drop the table 'CW2.Trail_Attraction', because it does not exist or you do not have permission. (3701) (SQLExecDirectW)\")"
     ]
    }
   ],
   "source": [
    "cursor.execute('''\n",
    "DROP TABLE CW2.Trail_Attraction\n",
    "DROP TABLE CW2.Trail_Ownership\n",
    "DROP TABLE CW2.Trail\n",
    "DROP TABLE CW2.Attraction\n",
    "DROP TABLE CW2.Location\n",
    "DROP TABLE CW2.[User]\n",
    "''')\n",
    "conn.commit()"
   ]
  }
 ],
 "metadata": {
  "kernelspec": {
   "display_name": "Python 3",
   "language": "python",
   "name": "python3"
  },
  "language_info": {
   "codemirror_mode": {
    "name": "ipython",
    "version": 3
   },
   "file_extension": ".py",
   "mimetype": "text/x-python",
   "name": "python",
   "nbconvert_exporter": "python",
   "pygments_lexer": "ipython3",
   "version": "3.12.7"
  }
 },
 "nbformat": 4,
 "nbformat_minor": 2
}
