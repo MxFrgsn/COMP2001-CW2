{
 "cells": [
  {
   "cell_type": "code",
   "execution_count": 32,
   "metadata": {},
   "outputs": [],
   "source": [
    "import pyodbc\n",
    "server = 'DIST-6-505.uopnet.plymouth.ac.uk'\n",
    "database = 'COMP2001_MFerguson'\n",
    "username = 'MFerguson'\n",
    "password = 'GjiF140*'\n",
    "driver = '{ODBC Driver 17 for SQL Server}'\n",
    "\n",
    "conn_str = (\n",
    "    f'DRIVER={driver};'\n",
    "    f'SERVER={server};'\n",
    "    f'DATABASE={database};'\n",
    "    f'UID={username};'\n",
    "    f'PWD={password};'\n",
    "    'Encrypt=Yes;'\n",
    "    'TrustServerCertificate=Yes;'\n",
    "    'Connection Timeout=30;'\n",
    "    'Trusted_Connection=No;'\n",
    ")\n",
    "conn = pyodbc.connect(conn_str)\n",
    "cursor = conn.cursor()"
   ]
  },
  {
   "cell_type": "code",
   "execution_count": null,
   "metadata": {},
   "outputs": [],
   "source": [
    "cursor.execute(''' CREATE SCHEMA CW2''')"
   ]
  },
  {
   "cell_type": "markdown",
   "metadata": {},
   "source": [
    "# Creating the tables"
   ]
  },
  {
   "cell_type": "code",
   "execution_count": null,
   "metadata": {},
   "outputs": [],
   "source": [
    "cursor.execute('''\n",
    "CREATE TABLE CW2.[User] (\n",
    "    user_id CHAR(8) PRIMARY KEY,\n",
    "    username VARCHAR(255) NOT NULL,\n",
    "    email VARCHAR(255) NOT NULL,\n",
    "    [password] VARCHAR(255) NOT NULL,\n",
    "    role VARCHAR(8) NOT NULL,\n",
    "    \n",
    "    CHECK (user_id LIKE '[U][S][R][0-9][0-9][0-9][0-9][0-9]'),\n",
    "    CHECK (LEN(username) >= 5 AND LEN(username) <= 255),\n",
    "    CHECK (email LIKE '%_@_%.__%'),\n",
    "    CHECK (LEN([password]) >= 8 AND CHARINDEX(' ', [password]) = 0),\n",
    "    CHECK (role = 'admin' OR role = 'user')\n",
    ")\n",
    "''')\n",
    "conn.commit()"
   ]
  },
  {
   "cell_type": "code",
   "execution_count": null,
   "metadata": {},
   "outputs": [],
   "source": [
    "cursor.execute('''\n",
    "INSERT INTO CW2.[User] (user_id, username, email, [password], role)\n",
    "VALUES\n",
    "('USR00001','Admin','admin@gmail.com','AdM1NpQsW0Rd','admin'),\n",
    "('USR00002','Tim Berners-Lee','tim@plymouth.ac.uk','COMP2001!', 'user'),\n",
    "('USR00003','Grace Hopper','grace@plymouth.ac.uk','ISAD123!', 'user'),\n",
    "('USR00004','Ada Lovelace','ada@plymouth.ac.uk','insecurePassword','user');\n",
    "''')\n",
    "conn.commit()"
   ]
  },
  {
   "cell_type": "code",
   "execution_count": null,
   "metadata": {},
   "outputs": [],
   "source": [
    "cursor.execute('''\n",
    "CREATE TABLE CW2.Location_Point (\n",
    "    location_point_id CHAR(8) PRIMARY KEY,\n",
    "    latitude DECIMAL(9,6) NOT NULL,\n",
    "    longitude DECIMAL(9,6) NOT NULL,\n",
    "    description VARCHAR(255),      \n",
    "    CHECK (location_point_id LIKE '[L][P][T][0-9][0-9][0-9][0-9][0-9]'),\n",
    "    CHECK (latitude BETWEEN -90 AND 90),\n",
    "    CHECK (longitude BETWEEN -180 AND 180),    \n",
    "    CHECK (LEN(description) >3)       \n",
    ")\n",
    "''')\n",
    "conn.commit()"
   ]
  },
  {
   "cell_type": "code",
   "execution_count": null,
   "metadata": {},
   "outputs": [],
   "source": [
    "cursor.execute('''\n",
    "INSERT INTO CW2.Location_Point (location_point_id, latitude, longitude, description)\n",
    "VALUES\n",
    "('LPT00001', 50.123456, -4.234567, 'Scenic viewpoint on the hill'),\n",
    "('LPT00002', 51.654321, -3.876543, 'Lake surrounded by forest'),\n",
    "('LPT00003', 52.987654, -2.123456, 'Historic site with ruins'),\n",
    "('LPT00004', 53.345678, -1.654321, 'Trailhead with parking area');\n",
    "''')\n",
    "conn.commit()\n"
   ]
  },
  {
   "cell_type": "code",
   "execution_count": 24,
   "metadata": {},
   "outputs": [],
   "source": [
    "cursor.execute('''\n",
    "CREATE TABLE CW2.Trail (\n",
    "    trail_id CHAR(8) PRIMARY KEY, \n",
    "    trail_name VARCHAR(255) NOT NULL UNIQUE,\n",
    "    summary VARCHAR(255),\n",
    "    description VARCHAR(1500),\n",
    "    location VARCHAR(255) NOT NULL,\n",
    "    traffic VARCHAR(8) NOT NULL,\n",
    "    difficulty VARCHAR(8) NOT NULL,\n",
    "    length DECIMAL(7,2) NOT NULL,           \n",
    "    duration VARCHAR(5) NOT NULL,\n",
    "    elevation_gain INT NOT NULL,\n",
    "    route_type VARCHAR(14) NOT NULL,\n",
    "               \n",
    "    owner_id CHAR(8) NOT NULL, \n",
    "    location_pt_1 CHAR(8),\n",
    "    location_pt_2 CHAR(8),\n",
    "    location_pt_3 CHAR(8),\n",
    "    location_pt_4 CHAR(8),\n",
    "    location_pt_5 CHAR(8),\n",
    "                   \n",
    "    CHECK (trail_id LIKE '[T][R][L][0-9][0-9][0-9][0-9][0-9]'), \n",
    "    CHECK (LEN(trail_name) >= 5 AND LEN(trail_name) <= 50),\n",
    "    CHECK (LEN(summary) >= 10 OR LEN(summary) = 0),\n",
    "    CHECK (LEN(description) >= 50 OR LEN(description) = 0),\n",
    "    CHECK (lower(traffic)= 'heavy' OR lower(traffic) = 'moderate' OR lower(traffic) = 'light'),\n",
    "    CHECK (lower(difficulty) = 'hard' OR lower(difficulty) = 'moderate' OR lower(difficulty) = 'easy'),  \n",
    "    CHECK (length > 0 AND length = ROUND(length, 2)),\n",
    "    CHECK (duration LIKE'[0-9][0-9]:[0-9][0-9]'),\n",
    "    CHECK (elevation_gain >=0),\n",
    "    CHECK (lower(route_type) = 'out & back' OR lower(route_type) = 'loop' OR\n",
    "    lower(route_type) = 'point to point'),\n",
    "               \n",
    "    CONSTRAINT FK_owner_id FOREIGN KEY (owner_id) REFERENCES CW2.[User](user_id),\n",
    "    CONSTRAINT fk_location_pt_1 FOREIGN KEY (location_pt_1) REFERENCES CW2.Location_Point(location_point_id),\n",
    "    CONSTRAINT fk_location_pt_2 FOREIGN KEY (location_pt_2) REFERENCES CW2.Location_Point(location_point_id),\n",
    "    CONSTRAINT fk_location_pt_3 FOREIGN KEY (location_pt_3) REFERENCES CW2.Location_Point(location_point_id),\n",
    "    CONSTRAINT fk_location_pt_4 FOREIGN KEY (location_pt_4) REFERENCES CW2.Location_Point(location_point_id),\n",
    "    CONSTRAINT fk_location_pt_5 FOREIGN KEY (location_pt_5) REFERENCES CW2.Location_Point(location_point_id)\n",
    ")\n",
    "''')\n",
    "conn.commit()\n"
   ]
  },
  {
   "cell_type": "code",
   "execution_count": 25,
   "metadata": {},
   "outputs": [],
   "source": [
    "cursor.execute('''\n",
    "INSERT INTO CW2.Trail (\n",
    "    trail_id, trail_name, summary, description, location, traffic,\n",
    "    difficulty, length, duration, elevation_gain, route_type, owner_id,\n",
    "    location_pt_1, location_pt_2, location_pt_3, location_pt_4, location_pt_5\n",
    ")\n",
    "VALUES\n",
    "('TRL00001', 'Forest Walk', 'A scenic walk through dense forest',\n",
    " 'This trail takes you through a beautiful forest with diverse wildlife and flora.', 'Plymouth, Devon, UK','moderate',\n",
    " 'easy', 5.50, '02:30', 300, 'loop', 'USR00002',\n",
    " 'LPT00001', 'LPT00002', 'LPT00003', 'LPT00004', 'LPT00001'),\n",
    "('TRL00002','Mountain Hike', 'A challenging hike with rewarding views',\n",
    " 'A strenuous but rewarding trail up the mountain with breathtaking views at the summit.', 'Los Angeles, California, USA', 'heavy', \n",
    " 'hard', 12.30, '05:45', 1200, 'out & back', 'USR00003',\n",
    " 'LPT00002', 'LPT00004', 'LPT00001', 'LPT00002', 'LPT00003'),\n",
    "('TRL00003', 'Coastal Path', 'A leisurely walk along the coast', \n",
    " 'This trail offers stunning views of the ocean and a chance to visit sandy beaches.', 'Lisbon, Portugal', 'light',\n",
    " 'moderate', 8.70, '03:15', 150, 'point to point', 'USR00004',\n",
    " 'LPT00003', 'LPT00004', 'LPT00001', 'LPT00002', 'LPT00003'),\n",
    "('TRL00004', 'River Valley Trek', 'A trek along a scenic river valley',\n",
    " 'Follow the river through a picturesque valley with plenty of photo opportunities.', 'Moscow, Russia','moderate',\n",
    " 'easy', 10.20, '04:00', 400, 'loop', 'USR00002',\n",
    " 'LPT00004', 'LPT00001', 'LPT00002', 'LPT00003', 'LPT00004');\n",
    "\n",
    "''')\n",
    "conn.commit()"
   ]
  },
  {
   "cell_type": "code",
   "execution_count": 26,
   "metadata": {},
   "outputs": [],
   "source": [
    "cursor.execute('''\n",
    "CREATE TABLE CW2.Attraction (\n",
    "    attraction_id CHAR(8) PRIMARY KEY,\n",
    "    attraction_name VARCHAR(255) NOT NULL,\n",
    "\n",
    "    CHECK (attraction_id LIKE '[A][T][T][0-9][0-9][0-9][0-9][0-9]'),\n",
    "    CHECK (LEN(attraction_name) >= 3)               \n",
    ")\n",
    "''')\n",
    "conn.commit()"
   ]
  },
  {
   "cell_type": "code",
   "execution_count": 27,
   "metadata": {},
   "outputs": [],
   "source": [
    "cursor.execute('''\n",
    "INSERT INTO CW2.Attraction (attraction_id, attraction_name)\n",
    "VALUES\n",
    "('ATT00001', 'Waterfall'),\n",
    "('ATT00002', 'Viewpoint'),\n",
    "('ATT00003', 'Historic Ruins'),\n",
    "('ATT00004', 'Picnic Spot');\n",
    "''')\n",
    "conn.commit()\n"
   ]
  },
  {
   "cell_type": "code",
   "execution_count": 28,
   "metadata": {},
   "outputs": [],
   "source": [
    "cursor.execute('''\n",
    "CREATE TABLE CW2.Trail_Attraction (\n",
    "    trail_id CHAR(8) NOT NULL,\n",
    "    attraction_id CHAR(8) NOT NULL,\n",
    "    PRIMARY KEY (trail_id, attraction_id),\n",
    "    \n",
    "    CONSTRAINT FK_trail_id_attraction FOREIGN KEY (trail_id) REFERENCES CW2.Trail(trail_id),\n",
    "    CONSTRAINT FK_attraction_id FOREIGN KEY (attraction_id) REFERENCES CW2.Attraction(attraction_id)\n",
    ")\n",
    "''')\n",
    "conn.commit()"
   ]
  },
  {
   "cell_type": "code",
   "execution_count": 29,
   "metadata": {},
   "outputs": [],
   "source": [
    "cursor.execute('''\n",
    "INSERT INTO CW2.Trail_Attraction (trail_id, attraction_id)\n",
    "VALUES\n",
    "('TRL00001', 'ATT00001'),\n",
    "('TRL00002', 'ATT00002'),\n",
    "('TRL00003', 'ATT00003'),\n",
    "('TRL00004', 'ATT00004'),\n",
    "('TRL00001', 'ATT00002'),\n",
    "('TRL00002', 'ATT00004'),\n",
    "('TRL00003', 'ATT00001');\n",
    "''')\n",
    "conn.commit()\n",
    "\n"
   ]
  },
  {
   "cell_type": "markdown",
   "metadata": {},
   "source": [
    "# Drop all tables"
   ]
  },
  {
   "cell_type": "code",
   "execution_count": null,
   "metadata": {},
   "outputs": [],
   "source": [
    "cursor.execute('''\n",
    "DROP TABLE CW2.Trail_Attraction\n",
    "DROP TABLE CW2.Trail\n",
    "DROP TABLE CW2.Location_Point\n",
    "DROP TABLE CW2.Attraction\n",
    "DROP TABLE CW2.[User]\n",
    "''')\n",
    "conn.commit()"
   ]
  },
  {
   "cell_type": "markdown",
   "metadata": {},
   "source": [
    "# A view to trail and attractions"
   ]
  },
  {
   "cell_type": "code",
   "execution_count": null,
   "metadata": {},
   "outputs": [],
   "source": [
    "cursor.execute('''\n",
    "\n",
    "CREATE VIEW CW2.TrailView AS\n",
    "SELECT \n",
    "    Trail.trail_id,\n",
    "    Trail.trail_name,\n",
    "    Trail.summary,\n",
    "    Trail.description,\n",
    "    Trail.location,\n",
    "    Trail.traffic,\n",
    "    Trail.difficulty,\n",
    "    Trail.length,\n",
    "    Trail.duration,\n",
    "    Trail.elevation_gain,\n",
    "    Trail.route_type,\n",
    "    Trail.owner_id,\n",
    "    STRING_AGG(\n",
    "        CONCAT(\n",
    "            'Latitude: ', Location_Point.latitude, \n",
    "            ', Longitude: ', Location_Point.longitude\n",
    "        ), '; '\n",
    "    ) AS location_points,\n",
    "    STRING_AGG(Attraction.attraction_name, ', ') AS attractions\n",
    "FROM \n",
    "    CW2.Trail\n",
    "LEFT JOIN \n",
    "    CW2.Location_Point ON Location_Point.location_point_id IN (\n",
    "        Trail.location_pt_1, \n",
    "        Trail.location_pt_2, \n",
    "        Trail.location_pt_3, \n",
    "        Trail.location_pt_4, \n",
    "        Trail.location_pt_5\n",
    "    )\n",
    "LEFT JOIN \n",
    "    CW2.Trail_Attraction ON Trail.trail_id = Trail_Attraction.trail_id\n",
    "LEFT JOIN \n",
    "    CW2.Attraction ON Trail_Attraction.attraction_id = Attraction.attraction_id\n",
    "GROUP BY \n",
    "    Trail.trail_id,\n",
    "    Trail.trail_name,\n",
    "    Trail.summary,\n",
    "    Trail.description,\n",
    "    Trail.location,\n",
    "    Trail.traffic,\n",
    "    Trail.difficulty,\n",
    "    Trail.length,\n",
    "    Trail.duration,\n",
    "    Trail.elevation_gain,\n",
    "    Trail.route_type,\n",
    "    Trail.owner_id;\n",
    "\n",
    "''')\n",
    "conn.commit()\n"
   ]
  },
  {
   "cell_type": "markdown",
   "metadata": {},
   "source": [
    "# Stored Procedures for CRUD for each table"
   ]
  },
  {
   "cell_type": "code",
   "execution_count": 33,
   "metadata": {},
   "outputs": [],
   "source": [
    "cursor.execute('''\n",
    "CREATE PROCEDURE CW2.CreateTrail (@trail_id as CHAR(8), @owner_id as CHAR(8), @trail_name as VARCHAR(255), @summary as VARCHAR(255),  \n",
    "@description as VARCHAR(1500), @location as VARCHAR(255), @traffic as VARCHAR(8), @difficulty as VARCHAR(8), \n",
    "@length as DECIMAL(7,2), @duration as VARCHAR(5), @elevation_gain as INT, @route_type as VARCHAR(14), \n",
    "@location_pt_1 as CHAR(8), @location_pt_2 as CHAR(8), @location_pt_3 as CHAR(8), @location_pt_4 as CHAR(8), @location_pt_5 as CHAR(8))\n",
    "AS\n",
    "BEGIN   \n",
    "    INSERT INTO CW2.Trail (trail_id, owner_id, trail_name, summary, description, location, traffic, difficulty, length, duration, \n",
    "    elevation_gain, route_type, location_pt_1, location_pt_2, location_pt_3, location_pt_4, location_pt_5)\n",
    "    VALUES \n",
    "    (@trail_id, @owner_id, @trail_name, @summary, @description, @location, @traffic, @difficulty, @length, @duration,\n",
    "    @elevation_gain, @route_type, @location_pt_1, @location_pt_2, @location_pt_3, @location_pt_4, @location_pt_5);\n",
    "END;\n",
    "''')\n",
    "conn.commit()"
   ]
  },
  {
   "cell_type": "code",
   "execution_count": 34,
   "metadata": {},
   "outputs": [],
   "source": [
    "cursor.execute('''\n",
    "CREATE PROCEDURE CW2.RetrieveTrail (@trail_id CHAR(8) = NULL) AS\n",
    "BEGIN\n",
    "    IF @trail_id IS NULL\n",
    "    BEGIN\n",
    "        SELECT * FROM CW2.TrailView;\n",
    "    END\n",
    "    ELSE\n",
    "    BEGIN\n",
    "        SELECT * FROM CW2.TrailView\n",
    "        WHERE trail_id = @trail_id;\n",
    "    END\n",
    "END\n",
    "''')\n",
    "conn.commit()"
   ]
  },
  {
   "cell_type": "code",
   "execution_count": null,
   "metadata": {},
   "outputs": [
    {
     "data": {
      "text/plain": [
       "<pyodbc.Cursor at 0x1f7ad240f30>"
      ]
     },
     "execution_count": 35,
     "metadata": {},
     "output_type": "execute_result"
    }
   ],
   "source": [
    "cursor.execute('''\n",
    "CREATE PROCEDURE CW2.RetrieveTrailByOwner (@owner_id CHAR(8)) AS\n",
    "BEGIN\n",
    "    SELECT * FROM CW2.TrailView\n",
    "    WHERE owner_id = @owner_id;\n",
    "END\n",
    "''')\n",
    "conn.commit()"
   ]
  },
  {
   "cell_type": "code",
   "execution_count": 36,
   "metadata": {},
   "outputs": [],
   "source": [
    "cursor.execute('''\n",
    "Create PROCEDURE CW2.RetrieveTrailByLocation (@location as VARCHAR(255)) AS\n",
    "BEGIN\n",
    "    SELECT * FROM CW2.TrailView\n",
    "    WHERE location = @location;\n",
    "END\n",
    "''')\n",
    "conn.commit()"
   ]
  },
  {
   "cell_type": "code",
   "execution_count": null,
   "metadata": {},
   "outputs": [
    {
     "data": {
      "text/plain": [
       "<pyodbc.Cursor at 0x1f7ad240f30>"
      ]
     },
     "execution_count": 37,
     "metadata": {},
     "output_type": "execute_result"
    }
   ],
   "source": [
    "cursor.execute('''\n",
    "CREATE PROCEDURE CW2.RetrieveTrailByAttraction (@attraction_id CHAR(8)) AS\n",
    "BEGIN\n",
    "    SELECT * FROM CW2.TrailView\n",
    "    WHERE trail_id IN (\n",
    "        SELECT trail_id FROM CW2.Trail_Attraction\n",
    "        WHERE attraction_id = @attraction_id\n",
    "    )\n",
    "END\n",
    "''')\n",
    "conn.commit()"
   ]
  },
  {
   "cell_type": "code",
   "execution_count": null,
   "metadata": {},
   "outputs": [
    {
     "data": {
      "text/plain": [
       "<pyodbc.Cursor at 0x1f7ad240f30>"
      ]
     },
     "execution_count": 38,
     "metadata": {},
     "output_type": "execute_result"
    }
   ],
   "source": [
    "cursor.execute('''\n",
    "CREATE PROCEDURE CW2.UpdateTrail (@trail_id as CHAR(8) = NULL, @owner_id as CHAR(8)= NULL, @trail_name as VARCHAR(255) = NULL, @summary as VARCHAR(255) = NULL,  \n",
    "@description as VARCHAR(1500) = NULL, @location as VARCHAR(255) = NULL, @traffic as VARCHAR(8) = NULL, @difficulty as VARCHAR(8) = NULL, \n",
    "@length as DECIMAL(7,2) = NULL, @duration as VARCHAR(5) = NULL, @elevation_gain as INT = NULL, @route_type as VARCHAR(14) = NULL, \n",
    "@location_pt_1 as CHAR(8)= NULL, @location_pt_2 as CHAR(8) = NULL, @location_pt_3 as CHAR(8) = NULL, @location_pt_4 as CHAR(8) = NULL, @location_pt_5 as CHAR(8) = NULL)\n",
    "AS\n",
    "BEGIN\n",
    "    BEGIN TRANSACTION;\n",
    "\n",
    "    BEGIN TRY\n",
    "        IF NOT EXISTS (SELECT 1 FROM CW2.Trail WHERE trail_id = @trail_id)\n",
    "        BEGIN\n",
    "            RAISERROR('Trail ID does not exist.', 16, 1);\n",
    "            ROLLBACK TRANSACTION;\n",
    "            RETURN;\n",
    "        END;\n",
    "        UPDATE CW2.Trail\n",
    "        SET\n",
    "            owner_id = ISNULL(@owner_id, owner_id),\n",
    "            trail_name = ISNULL(@trail_name, trail_name),\n",
    "            summary = ISNULL(@summary, summary),\n",
    "            description = ISNULL(@description, description),\n",
    "            location = ISNULL(@location, location),\n",
    "            traffic = ISNULL(@traffic, traffic),\n",
    "            difficulty = ISNULL(@difficulty, difficulty),\n",
    "            length = ISNULL(@length, length),\n",
    "            duration = ISNULL(@duration, duration),\n",
    "            elevation_gain = ISNULL(@elevation_gain, elevation_gain),\n",
    "            route_type = ISNULL(@route_type, route_type),\n",
    "            location_pt_1 = ISNULL(@location_pt_1, location_pt_1),\n",
    "            location_pt_2 = ISNULL(@location_pt_2, location_pt_2),\n",
    "            location_pt_3 = ISNULL(@location_pt_3, location_pt_3),\n",
    "            location_pt_4 = ISNULL(@location_pt_4, location_pt_4),\n",
    "            location_pt_5 = ISNULL(@location_pt_5, location_pt_5)\n",
    "        WHERE trail_id = @trail_id;\n",
    "\n",
    "        COMMIT TRANSACTION;\n",
    "    END TRY\n",
    "    BEGIN CATCH\n",
    "        ROLLBACK TRANSACTION;\n",
    "        THROW;\n",
    "    END CATCH\n",
    "END;\n",
    "''')\n",
    "conn.commit()"
   ]
  },
  {
   "cell_type": "code",
   "execution_count": 39,
   "metadata": {},
   "outputs": [],
   "source": [
    "cursor.execute('''\n",
    "CREATE PROCEDURE CW2.DeleteTrail(@trail_id as CHAR(8)) AS\n",
    "BEGIN\n",
    "    DELETE FROM CW2.Trail_Attraction\n",
    "    WHERE trail_id = @trail_id;\n",
    "    DELETE FROM CW2.Trail\n",
    "    WHERE trail_id = @trail_id\n",
    "END\n",
    "''')\n",
    "conn.commit()"
   ]
  },
  {
   "cell_type": "code",
   "execution_count": 40,
   "metadata": {},
   "outputs": [],
   "source": [
    "cursor.execute('''\n",
    "CREATE PROCEDURE CW2.CreateUser (@user_id as CHAR(8), @username as VARCHAR(255), @email as VARCHAR(255), @password as VARCHAR(255), @role as VARCHAR(8))\n",
    "AS\n",
    "BEGIN\n",
    "    INSERT INTO CW2.[User] (user_id, username, email, [password], role)\n",
    "    VALUES (@user_id, @username, @email, @password, @role);\n",
    "END\n",
    "''')\n",
    "conn.commit()"
   ]
  },
  {
   "cell_type": "code",
   "execution_count": 41,
   "metadata": {},
   "outputs": [],
   "source": [
    "cursor.execute('''\n",
    "CREATE PROCEDURE CW2.RetrieveUser (@user_id CHAR(8) = NULL) AS\n",
    "BEGIN\n",
    "    IF @user_id IS NULL\n",
    "    BEGIN\n",
    "        SELECT * FROM CW2.[User];\n",
    "    END\n",
    "    ELSE\n",
    "    BEGIN\n",
    "        SELECT * FROM CW2.[User]\n",
    "        WHERE user_id = @user_id;\n",
    "    END\n",
    "END\n",
    "''')\n",
    "conn.commit()"
   ]
  },
  {
   "cell_type": "code",
   "execution_count": 42,
   "metadata": {},
   "outputs": [],
   "source": [
    "cursor.execute('''\n",
    "CREATE PROCEDURE CW2.UpdateUser (@user_id as CHAR(8) = NULL, @username as VARCHAR(255) = NULL, @email as VARCHAR(255) = NULL, @password as VARCHAR(255) = NULL, @role as VARCHAR(8) = NULL)\n",
    "AS\n",
    "BEGIN\n",
    "    BEGIN TRANSACTION;\n",
    "\n",
    "    BEGIN TRY\n",
    "        IF NOT EXISTS (SELECT 1 FROM CW2.[User] WHERE user_id = @user_id)\n",
    "        BEGIN\n",
    "            RAISERROR('User ID does not exist.', 16, 1);\n",
    "            ROLLBACK TRANSACTION;\n",
    "            RETURN;\n",
    "        END;\n",
    "        UPDATE CW2.[User]\n",
    "        SET\n",
    "            username = ISNULL(@username, username),\n",
    "            email = ISNULL(@email, email),\n",
    "            [password] = ISNULL(@password, [password]),\n",
    "            role = ISNULL(@role, role)\n",
    "        WHERE user_id = @user_id;\n",
    "\n",
    "        COMMIT TRANSACTION;\n",
    "    END TRY\n",
    "    BEGIN CATCH\n",
    "        ROLLBACK TRANSACTION;\n",
    "        THROW;\n",
    "    END CATCH\n",
    "END;\n",
    "''')\n",
    "conn.commit()"
   ]
  },
  {
   "cell_type": "code",
   "execution_count": 43,
   "metadata": {},
   "outputs": [],
   "source": [
    "cursor.execute('''\n",
    "CREATE PROCEDURE CW2.DeleteUser(@user_id as CHAR(8)) AS\n",
    "BEGIN\n",
    "    DELETE FROM CW2.Trail\n",
    "    WHERE owner_id = @user_id\n",
    "    DELETE FROM CW2.[User]\n",
    "    WHERE user_id = @user_id\n",
    "END\n",
    "''')\n",
    "conn.commit()"
   ]
  },
  {
   "cell_type": "code",
   "execution_count": 44,
   "metadata": {},
   "outputs": [],
   "source": [
    "cursor.execute('''\n",
    "CREATE PROCEDURE CW2.CreateLocationPoint (@location_point_id as CHAR(8), @latitude as DECIMAL(9,6), @longitude as DECIMAL(9,6), @description as VARCHAR(255))\n",
    "AS\n",
    "BEGIN\n",
    "    INSERT INTO CW2.Location_Point (location_point_id, latitude, longitude, description)\n",
    "    VALUES (@location_point_id, @latitude, @longitude, @description);\n",
    "END\n",
    "''')\n",
    "conn.commit()"
   ]
  },
  {
   "cell_type": "code",
   "execution_count": 45,
   "metadata": {},
   "outputs": [],
   "source": [
    "cursor.execute('''\n",
    "CREATE PROCEDURE CW2.RetrieveLocationPoint (@location_point_id CHAR(8) = NULL) AS\n",
    "BEGIN\n",
    "    IF @location_point_id IS NULL\n",
    "    BEGIN\n",
    "        SELECT * FROM CW2.Location_Point;\n",
    "    END\n",
    "    ELSE\n",
    "    BEGIN\n",
    "        SELECT * FROM CW2.Location_Point\n",
    "        WHERE location_point_id = @location_point_id;\n",
    "    END\n",
    "END\n",
    "''')\n",
    "conn.commit()"
   ]
  },
  {
   "cell_type": "code",
   "execution_count": 46,
   "metadata": {},
   "outputs": [],
   "source": [
    "cursor.execute('''\n",
    "CREATE PROCEDURE CW2.UpdateLocationPoint (@location_point_id as CHAR(8) = NULL, @latitude as DECIMAL(9,6) = NULL, @longitude as DECIMAL(9,6) = NULL, @description as VARCHAR(255) = NULL)\n",
    "AS\n",
    "BEGIN\n",
    "    BEGIN TRANSACTION;\n",
    "\n",
    "    BEGIN TRY\n",
    "        IF NOT EXISTS (SELECT 1 FROM CW2.Location_Point WHERE location_point_id = @location_point_id)\n",
    "        BEGIN\n",
    "            RAISERROR('Location Point ID does not exist.', 16, 1);\n",
    "            ROLLBACK TRANSACTION;\n",
    "            RETURN;\n",
    "        END;\n",
    "        UPDATE CW2.Location_Point\n",
    "        SET\n",
    "            latitude = ISNULL(@latitude, latitude),\n",
    "            longitude = ISNULL(@longitude, longitude),\n",
    "            description = ISNULL(@description, description)\n",
    "        WHERE location_point_id = @location_point_id;\n",
    "\n",
    "        COMMIT TRANSACTION;\n",
    "    END TRY\n",
    "    BEGIN CATCH\n",
    "        ROLLBACK TRANSACTION;\n",
    "        THROW;\n",
    "    END CATCH\n",
    "END;\n",
    "''')\n",
    "conn.commit()"
   ]
  },
  {
   "cell_type": "code",
   "execution_count": 47,
   "metadata": {},
   "outputs": [],
   "source": [
    "cursor.execute('''\n",
    "CREATE PROCEDURE CW2.DeleteLocationPoint(@location_point_id as CHAR(8)) AS\n",
    "BEGIN\n",
    "    DELETE FROM CW2.Trail\n",
    "    WHERE location_pt_1 = @location_point_id OR location_pt_2 = @location_point_id OR location_pt_3 = @location_point_id OR location_pt_4 = @location_point_id OR location_pt_5 = @location_point_id\n",
    "    DELETE FROM CW2.Location_Point\n",
    "    WHERE location_point_id = @location_point_id\n",
    "END\n",
    "''')\n",
    "conn.commit()"
   ]
  },
  {
   "cell_type": "code",
   "execution_count": 48,
   "metadata": {},
   "outputs": [],
   "source": [
    "cursor.execute('''\n",
    "CREATE PROCEDURE CW2.CreateAttraction (@attraction_id as CHAR(8), @attraction_name as VARCHAR(255))\n",
    "AS\n",
    "BEGIN\n",
    "    INSERT INTO CW2.Attraction (attraction_id, attraction_name)\n",
    "    VALUES (@attraction_id, @attraction_name);\n",
    "END\n",
    "''')\n",
    "conn.commit()"
   ]
  },
  {
   "cell_type": "code",
   "execution_count": 49,
   "metadata": {},
   "outputs": [],
   "source": [
    "cursor.execute('''\n",
    "CREATE PROCEDURE CW2.RetrieveAttraction (@attraction_id CHAR(8) = NULL) AS\n",
    "BEGIN\n",
    "    IF @attraction_id IS NULL\n",
    "    BEGIN\n",
    "        SELECT * FROM CW2.Attraction;\n",
    "    END\n",
    "    ELSE\n",
    "    BEGIN\n",
    "        SELECT * FROM CW2.Attraction\n",
    "        WHERE attraction_id = @attraction_id;\n",
    "    END\n",
    "END\n",
    "''')\n",
    "conn.commit()"
   ]
  },
  {
   "cell_type": "code",
   "execution_count": null,
   "metadata": {},
   "outputs": [],
   "source": [
    "cursor.execute('''\n",
    "CREATE PROCEDURE CW2.UpdateAttraction (@attraction_id as CHAR(8) = NULL, @attraction_name as VARCHAR(255) = NULL)\n",
    "AS\n",
    "BEGIN\n",
    "    BEGIN TRANSACTION;\n",
    "\n",
    "    BEGIN TRY\n",
    "        IF NOT EXISTS (SELECT 1 FROM CW2.Attraction WHERE attraction_id = @attraction_id)\n",
    "        BEGIN\n",
    "            RAISERROR('Attraction ID does not exist.', 16, 1);\n",
    "            ROLLBACK TRANSACTION;\n",
    "            RETURN;\n",
    "        END;\n",
    "        UPDATE CW2.Attraction\n",
    "        SET\n",
    "            attraction_name = ISNULL(@attraction_name, attraction_name)\n",
    "        WHERE attraction_id = @attraction_id;\n",
    "\n",
    "        COMMIT TRANSACTION;\n",
    "    END TRY\n",
    "    BEGIN CATCH\n",
    "        ROLLBACK TRANSACTION;\n",
    "        THROW;\n",
    "    END CATCH\n",
    "END;\n",
    "''')\n",
    "conn.commit()"
   ]
  },
  {
   "cell_type": "code",
   "execution_count": 51,
   "metadata": {},
   "outputs": [],
   "source": [
    "cursor.execute('''\n",
    "CREATE PROCEDURE CW2.DeleteAttraction(@attraction_id as CHAR(8)) AS\n",
    "BEGIN\n",
    "    DELETE FROM CW2.Trail_Attraction\n",
    "    WHERE attraction_id = @attraction_id\n",
    "    DELETE FROM CW2.Attraction\n",
    "    WHERE attraction_id = @attraction_id\n",
    "END\n",
    "''')\n",
    "conn.commit()"
   ]
  },
  {
   "cell_type": "code",
   "execution_count": 53,
   "metadata": {},
   "outputs": [],
   "source": [
    "cursor.execute('''\n",
    "CREATE PROCEDURE CW2.CreateTrailAttraction (@trail_id as CHAR(8), @attraction_id as CHAR(8))\n",
    "AS\n",
    "BEGIN\n",
    "    INSERT INTO CW2.Trail_Attraction (trail_id, attraction_id)\n",
    "    VALUES (@trail_id, @attraction_id);\n",
    "END\n",
    "''')\n",
    "conn.commit()"
   ]
  },
  {
   "cell_type": "code",
   "execution_count": 54,
   "metadata": {},
   "outputs": [],
   "source": [
    "cursor.execute('''\n",
    "CREATE PROCEDURE CW2.RetrieveTrailAttraction (@trail_id CHAR(8) = NULL, @attraction_id CHAR(8) = NULL) AS\n",
    "BEGIN\n",
    "    IF @trail_id IS NULL AND @attraction_id IS NULL\n",
    "    BEGIN\n",
    "        SELECT * FROM CW2.Trail_Attraction;\n",
    "    END\n",
    "    ELSE IF @trail_id IS NOT NULL AND @attraction_id IS NULL\n",
    "    BEGIN\n",
    "        SELECT * FROM CW2.Trail_Attraction\n",
    "        WHERE trail_id = @trail_id;\n",
    "    END\n",
    "    ELSE IF @trail_id IS NULL AND @attraction_id IS NOT NULL\n",
    "    BEGIN\n",
    "        SELECT * FROM CW2.Trail_Attraction\n",
    "        WHERE attraction_id = @attraction_id;\n",
    "    END\n",
    "    ELSE\n",
    "    BEGIN\n",
    "        SELECT * FROM CW2.Trail_Attraction\n",
    "        WHERE trail_id = @trail_id AND attraction_id = @attraction_id;\n",
    "    END\n",
    "END\n",
    "''')\n",
    "conn.commit()"
   ]
  },
  {
   "cell_type": "code",
   "execution_count": 55,
   "metadata": {},
   "outputs": [],
   "source": [
    "cursor.execute('''\n",
    "CREATE PROCEDURE CW2.DeleteTrailAttraction(@trail_id as CHAR(8), @attraction_id as CHAR(8)) AS\n",
    "BEGIN\n",
    "    DELETE FROM CW2.Trail_Attraction\n",
    "    WHERE trail_id = @trail_id AND attraction_id = @attraction_id\n",
    "END\n",
    "''')\n",
    "conn.commit()"
   ]
  }
 ],
 "metadata": {
  "kernelspec": {
   "display_name": "Python 3",
   "language": "python",
   "name": "python3"
  },
  "language_info": {
   "codemirror_mode": {
    "name": "ipython",
    "version": 3
   },
   "file_extension": ".py",
   "mimetype": "text/x-python",
   "name": "python",
   "nbconvert_exporter": "python",
   "pygments_lexer": "ipython3",
   "version": "3.12.8"
  }
 },
 "nbformat": 4,
 "nbformat_minor": 2
}
