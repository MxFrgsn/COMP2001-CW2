{
 "cells": [
  {
   "cell_type": "markdown",
   "metadata": {},
   "source": [
    "# Setting up connection to database"
   ]
  },
  {
   "cell_type": "code",
   "execution_count": 2,
   "metadata": {},
   "outputs": [],
   "source": [
    "import pyodbc\n",
    "server = 'DIST-6-505.uopnet.plymouth.ac.uk'\n",
    "database = 'COMP2001_MFerguson'\n",
    "username = 'MFerguson'\n",
    "password = 'GjiF140*'\n",
    "driver = '{ODBC Driver 17 for SQL Server}'\n",
    "\n",
    "conn_str = (\n",
    "    f'DRIVER={driver};'\n",
    "    f'SERVER={server};'\n",
    "    f'DATABASE={database};'\n",
    "    f'UID={username};'\n",
    "    f'PWD={password};'\n",
    "    'Encrypt=Yes;'\n",
    "    'TrustServerCertificate=Yes;'\n",
    "    'Connection Timeout=30;'\n",
    "    'Trusted_Connection=No;'\n",
    ")\n",
    "conn = pyodbc.connect(conn_str)\n",
    "cursor = conn.cursor()"
   ]
  },
  {
   "cell_type": "markdown",
   "metadata": {},
   "source": [
    "# Creating schema"
   ]
  },
  {
   "cell_type": "code",
   "execution_count": null,
   "metadata": {},
   "outputs": [],
   "source": [
    "cursor.execute(''' CREATE SCHEMA CW2''')\n",
    "conn.commit()"
   ]
  },
  {
   "cell_type": "markdown",
   "metadata": {},
   "source": [
    "# Creating the tables"
   ]
  },
  {
   "cell_type": "code",
   "execution_count": 4,
   "metadata": {},
   "outputs": [],
   "source": [
    "cursor.execute('''\n",
    "CREATE TABLE CW2.[User] (\n",
    "    user_id INT IDENTITY (1,1) PRIMARY KEY,\n",
    "    username VARCHAR(255) NOT NULL,\n",
    "    email VARCHAR(255) NOT NULL,\n",
    "    [password] VARCHAR(255) NOT NULL,\n",
    "    role VARCHAR(8) NOT NULL,\n",
    "               \n",
    "    CHECK (LEN(username) >= 5 AND LEN(username) <= 255),\n",
    "    CHECK (email LIKE '%_@_%.__%'),\n",
    "    CHECK (LEN([password]) >= 8 AND CHARINDEX(' ', [password]) = 0),\n",
    "    CHECK (role = 'admin' OR role = 'user')\n",
    ")\n",
    "''')\n",
    "conn.commit()"
   ]
  },
  {
   "cell_type": "code",
   "execution_count": 5,
   "metadata": {},
   "outputs": [],
   "source": [
    "cursor.execute('''\n",
    "INSERT INTO CW2.[User] (username, email, [password], role)\n",
    "VALUES\n",
    "('Admin','admin@gmail.com','AdM1NpQsW0Rd','admin'),\n",
    "('Tim Berners-Lee','tim@plymouth.ac.uk','COMP2001!', 'user'),\n",
    "('Grace Hopper','grace@plymouth.ac.uk','ISAD123!', 'user'),\n",
    "('Ada Lovelace','ada@plymouth.ac.uk','insecurePassword','user');\n",
    "''')\n",
    "conn.commit()"
   ]
  },
  {
   "cell_type": "code",
   "execution_count": 6,
   "metadata": {},
   "outputs": [],
   "source": [
    "cursor.execute('''\n",
    "CREATE TABLE CW2.Location_Point (\n",
    "    location_point_id INT IDENTITY(1,1) PRIMARY KEY,\n",
    "    latitude DECIMAL(8,6) NOT NULL,\n",
    "    longitude DECIMAL(9,6) NOT NULL,\n",
    "    description VARCHAR(255),  \n",
    "                   \n",
    "    CHECK (latitude BETWEEN -90 AND 90),\n",
    "    CHECK (longitude BETWEEN -180 AND 180),    \n",
    "    CHECK (LEN(description) >3)       \n",
    ")\n",
    "''')\n",
    "conn.commit()"
   ]
  },
  {
   "cell_type": "code",
   "execution_count": 7,
   "metadata": {},
   "outputs": [],
   "source": [
    "cursor.execute('''\n",
    "INSERT INTO CW2.Location_Point (latitude, longitude, description)\n",
    "VALUES\n",
    "(50.123456, -4.234567, 'Scenic viewpoint on the hill'),\n",
    "(51.654321, -3.876543, 'Lake surrounded by forest'),\n",
    "(52.987654, -2.123456, 'Historic site with ruins'),\n",
    "(53.345678, -1.654321, 'Trailhead with parking area'),\n",
    "(54.876543, -0.987654, 'Picnic area with tables and benches');\n",
    "''')\n",
    "conn.commit()\n"
   ]
  },
  {
   "cell_type": "code",
   "execution_count": 8,
   "metadata": {},
   "outputs": [],
   "source": [
    "cursor.execute('''\n",
    "CREATE TABLE CW2.Trail (\n",
    "    trail_id INT IDENTITY(1,1) PRIMARY KEY, \n",
    "    trail_name VARCHAR(255) NOT NULL UNIQUE,\n",
    "    summary VARCHAR(255),\n",
    "    description VARCHAR(1500),\n",
    "    location VARCHAR(255) NOT NULL,\n",
    "    traffic VARCHAR(8) NOT NULL,\n",
    "    difficulty VARCHAR(8) NOT NULL,\n",
    "    length DECIMAL(7,2) NOT NULL,           \n",
    "    duration VARCHAR(5) NOT NULL,\n",
    "    elevation_gain INT NOT NULL,\n",
    "    route_type VARCHAR(14) NOT NULL,\n",
    "               \n",
    "    owner_id INT NOT NULL, \n",
    "\n",
    "    CHECK (LEN(trail_name) >= 5 AND LEN(trail_name) <= 50),\n",
    "    CHECK (LEN(summary) >= 10 OR LEN(summary) = 0),\n",
    "    CHECK (LEN(description) >= 50 OR LEN(description) = 0),\n",
    "    CHECK (lower(traffic)= 'heavy' OR lower(traffic) = 'moderate' OR lower(traffic) = 'light'),\n",
    "    CHECK (lower(difficulty) = 'hard' OR lower(difficulty) = 'moderate' OR lower(difficulty) = 'easy'),  \n",
    "    CHECK (length > 0 AND length = ROUND(length, 2)),\n",
    "    CHECK (duration LIKE'[0-9][0-9]:[0-9][0-9]'),\n",
    "    CHECK (elevation_gain >=0),\n",
    "    CHECK (lower(route_type) = 'out and back' OR lower(route_type) = 'loop' OR lower(route_type) = 'point to point'),\n",
    "               \n",
    "    CONSTRAINT FK_owner_id FOREIGN KEY (owner_id) REFERENCES CW2.[User](user_id),\n",
    ")\n",
    "''')\n",
    "conn.commit()\n"
   ]
  },
  {
   "cell_type": "code",
   "execution_count": 9,
   "metadata": {},
   "outputs": [],
   "source": [
    "cursor.execute('''\n",
    "INSERT INTO CW2.Trail (trail_name, summary, description, location, traffic,difficulty, length, duration, elevation_gain, route_type, owner_id) \n",
    "VALUES\n",
    "('Forest Walk', 'A scenic walk through dense forest',\n",
    "    'This trail takes you through a beautiful forest with diverse wildlife and flora.', 'Plymouth, Devon, UK', 'moderate',\n",
    "    'easy', 5.50, '02:30', 300, 'loop', 2),\n",
    "('Mountain Hike', 'A challenging hike with rewarding views',\n",
    "    'A strenuous but rewarding trail up the mountain with breathtaking views at the summit.', 'Los Angeles, California, USA', 'heavy',\n",
    "    'hard', 12.30, '05:45', 1200, 'out and back', 3),\n",
    "('Coastal Path', 'A leisurely walk along the coast',\n",
    "    'This trail offers stunning views of the ocean and a chance to visit sandy beaches.', 'Lisbon, Portugal', 'light',\n",
    "    'moderate', 8.70, '03:15', 150, 'point to point', 4),\n",
    "('River Valley Trek', 'A trek along a scenic river valley',\n",
    "    'Follow the river through a picturesque valley with plenty of photo opportunities.', 'Moscow, Russia', 'moderate',\n",
    "    'easy', 10.20, '04:00', 400, 'loop', 2);\n",
    "\n",
    "''')\n",
    "conn.commit()"
   ]
  },
  {
   "cell_type": "code",
   "execution_count": 10,
   "metadata": {},
   "outputs": [],
   "source": [
    "cursor.execute('''CREATE TABLE CW2.Trail_LocationPt (\n",
    "    trail_id INT NOT NULL,\n",
    "    location_point_id INT NOT NULL,\n",
    "    order_number INT NOT NULL,\n",
    "    CONSTRAINT fk_trail_id FOREIGN KEY (trail_id) REFERENCES CW2.Trail(trail_id),\n",
    "    CONSTRAINT fk_location_point_id FOREIGN KEY (location_point_id) REFERENCES CW2.Location_Point(location_point_id)\n",
    ")\n",
    "''')\n",
    "conn.commit()"
   ]
  },
  {
   "cell_type": "code",
   "execution_count": 11,
   "metadata": {},
   "outputs": [],
   "source": [
    "cursor.execute('''\n",
    "INSERT INTO CW2.Trail_LocationPt (trail_id, location_point_id, order_number)\n",
    "VALUES\n",
    "(1, 1, 1),\n",
    "(1, 2, 2),\n",
    "(1, 3, 3),\n",
    "(1, 4, 4),\n",
    "(1, 5, 5),\n",
    "(2, 2, 1),\n",
    "(2, 4, 2),\n",
    "(2, 1, 3),\n",
    "(2, 2, 4),\n",
    "(2, 3, 5),\n",
    "(3, 3, 1),\n",
    "(3, 4, 2),\n",
    "(3, 1, 3),\n",
    "(3, 2, 4),\n",
    "(3, 3, 5),\n",
    "(4, 4, 1),\n",
    "(4, 1, 2),\n",
    "(4, 2, 3),\n",
    "(4, 3, 4),\n",
    "(4, 4, 5);\n",
    "''')\n",
    "conn.commit()"
   ]
  },
  {
   "cell_type": "code",
   "execution_count": 12,
   "metadata": {},
   "outputs": [],
   "source": [
    "cursor.execute('''\n",
    "CREATE TABLE CW2.Attraction (\n",
    "    attraction_id INT IDENTITY(1,1) PRIMARY KEY,\n",
    "    attraction_name VARCHAR(255) NOT NULL,\n",
    "    CHECK (LEN(attraction_name) >= 3)               \n",
    ")\n",
    "''')\n",
    "conn.commit()"
   ]
  },
  {
   "cell_type": "code",
   "execution_count": 13,
   "metadata": {},
   "outputs": [],
   "source": [
    "cursor.execute('''\n",
    "INSERT INTO CW2.Attraction (attraction_name)\n",
    "VALUES\n",
    "('Waterfall'),\n",
    "('Viewpoint'),\n",
    "('Historic Ruins'),\n",
    "('Picnic Spot');\n",
    "''')\n",
    "conn.commit()\n"
   ]
  },
  {
   "cell_type": "code",
   "execution_count": 14,
   "metadata": {},
   "outputs": [],
   "source": [
    "cursor.execute('''\n",
    "CREATE TABLE CW2.Trail_Attraction (\n",
    "    trail_id INT NOT NULL,\n",
    "    attraction_id INT NOT NULL,\n",
    "    PRIMARY KEY (trail_id, attraction_id),\n",
    "    \n",
    "    CONSTRAINT FK_trail_id_attraction FOREIGN KEY (trail_id) REFERENCES CW2.Trail(trail_id),\n",
    "    CONSTRAINT FK_attraction_id FOREIGN KEY (attraction_id) REFERENCES CW2.Attraction(attraction_id)\n",
    ")\n",
    "''')\n",
    "conn.commit()"
   ]
  },
  {
   "cell_type": "code",
   "execution_count": 15,
   "metadata": {},
   "outputs": [],
   "source": [
    "cursor.execute('''\n",
    "INSERT INTO CW2.Trail_Attraction (trail_id, attraction_id)\n",
    "VALUES\n",
    "(1, 1),\n",
    "(2, 2),\n",
    "(3, 3),\n",
    "(4, 4),\n",
    "(1, 2),\n",
    "(2, 4),\n",
    "(3, 1);\n",
    "''')\n",
    "conn.commit()\n",
    "\n"
   ]
  },
  {
   "cell_type": "markdown",
   "metadata": {},
   "source": [
    "# Viewing all the data stored in the tables"
   ]
  },
  {
   "cell_type": "code",
   "execution_count": 3,
   "metadata": {},
   "outputs": [
    {
     "name": "stdout",
     "output_type": "stream",
     "text": [
      "(1, 'Admin', 'admin@gmail.com', 'AdM1NpQsW0Rd', 'admin')\n",
      "(2, 'Tim Berners-Lee', 'tim@plymouth.ac.uk', 'COMP2001!', 'user')\n",
      "(3, 'Grace Hopper', 'grace@plymouth.ac.uk', 'ISAD123!', 'user')\n",
      "(4, 'Ada Lovelace', 'ada@plymouth.ac.uk', 'insecurePassword', 'user')\n"
     ]
    }
   ],
   "source": [
    "cursor.execute(''' SELECT * FROM CW2.[User]''')\n",
    "row = cursor.fetchall()\n",
    "for rows in row:\n",
    "    print(rows)"
   ]
  },
  {
   "cell_type": "code",
   "execution_count": 4,
   "metadata": {},
   "outputs": [
    {
     "name": "stdout",
     "output_type": "stream",
     "text": [
      "(1, Decimal('50.123456'), Decimal('-4.234567'), 'Scenic viewpoint on the hill')\n",
      "(2, Decimal('51.654321'), Decimal('-3.876543'), 'Lake surrounded by forest')\n",
      "(3, Decimal('52.987654'), Decimal('-2.123456'), 'Historic site with ruins')\n",
      "(4, Decimal('53.345678'), Decimal('-1.654321'), 'Trailhead with parking area')\n",
      "(5, Decimal('54.876543'), Decimal('-0.987654'), 'Picnic area with tables and benches')\n"
     ]
    }
   ],
   "source": [
    "cursor.execute(''' SELECT * FROM CW2.Location_Point''')\n",
    "row = cursor.fetchall()\n",
    "for rows in row:\n",
    "    print(rows)"
   ]
  },
  {
   "cell_type": "code",
   "execution_count": 5,
   "metadata": {},
   "outputs": [
    {
     "name": "stdout",
     "output_type": "stream",
     "text": [
      "(1, 'Forest Walk', 'A scenic walk through dense forest', 'This trail takes you through a beautiful forest with diverse wildlife and flora.', 'Plymouth, Devon, UK', 'moderate', 'easy', Decimal('5.50'), '02:30', 300, 'loop', 2)\n",
      "(2, 'Mountain Hike', 'A challenging hike with rewarding views', 'A strenuous but rewarding trail up the mountain with breathtaking views at the summit.', 'Los Angeles, California, USA', 'heavy', 'hard', Decimal('12.30'), '05:45', 1200, 'out and back', 3)\n",
      "(3, 'Coastal Path', 'A leisurely walk along the coast', 'This trail offers stunning views of the ocean and a chance to visit sandy beaches.', 'Lisbon, Portugal', 'light', 'moderate', Decimal('8.70'), '03:15', 150, 'point to point', 4)\n",
      "(4, 'River Valley Trek', 'A trek along a scenic river valley', 'Follow the river through a picturesque valley with plenty of photo opportunities.', 'Moscow, Russia', 'moderate', 'easy', Decimal('10.20'), '04:00', 400, 'loop', 2)\n"
     ]
    }
   ],
   "source": [
    "cursor.execute(''' SELECT * FROM CW2.Trail''')\n",
    "row = cursor.fetchall()\n",
    "for rows in row:\n",
    "    print(rows)"
   ]
  },
  {
   "cell_type": "code",
   "execution_count": 6,
   "metadata": {},
   "outputs": [
    {
     "name": "stdout",
     "output_type": "stream",
     "text": [
      "(1, 'Waterfall')\n",
      "(2, 'Viewpoint')\n",
      "(3, 'Historic Ruins')\n",
      "(4, 'Picnic Spot')\n"
     ]
    }
   ],
   "source": [
    "cursor.execute(''' SELECT * FROM CW2.Attraction''')\n",
    "row = cursor.fetchall()\n",
    "for rows in row:\n",
    "    print(rows)"
   ]
  },
  {
   "cell_type": "code",
   "execution_count": 7,
   "metadata": {},
   "outputs": [
    {
     "name": "stdout",
     "output_type": "stream",
     "text": [
      "(1, 1)\n",
      "(1, 2)\n",
      "(2, 2)\n",
      "(2, 4)\n",
      "(3, 1)\n",
      "(3, 3)\n",
      "(4, 4)\n"
     ]
    }
   ],
   "source": [
    "cursor.execute(''' SELECT * FROM CW2.Trail_Attraction''')\n",
    "row = cursor.fetchall()\n",
    "for rows in row:\n",
    "    print(rows)\n",
    "    "
   ]
  },
  {
   "cell_type": "code",
   "execution_count": 8,
   "metadata": {},
   "outputs": [
    {
     "name": "stdout",
     "output_type": "stream",
     "text": [
      "(1, 1, 1)\n",
      "(1, 2, 2)\n",
      "(1, 3, 3)\n",
      "(1, 4, 4)\n",
      "(1, 5, 5)\n",
      "(2, 2, 1)\n",
      "(2, 4, 2)\n",
      "(2, 1, 3)\n",
      "(2, 2, 4)\n",
      "(2, 3, 5)\n",
      "(3, 3, 1)\n",
      "(3, 4, 2)\n",
      "(3, 1, 3)\n",
      "(3, 2, 4)\n",
      "(3, 3, 5)\n",
      "(4, 4, 1)\n",
      "(4, 1, 2)\n",
      "(4, 2, 3)\n",
      "(4, 3, 4)\n",
      "(4, 4, 5)\n"
     ]
    }
   ],
   "source": [
    "cursor.execute(''' SELECT * FROM CW2.Trail_LocationPt''')\n",
    "row = cursor.fetchall()\n",
    "for rows in row:\n",
    "    print(rows)\n",
    "    "
   ]
  },
  {
   "cell_type": "markdown",
   "metadata": {},
   "source": [
    "# Drop all tables"
   ]
  },
  {
   "cell_type": "code",
   "execution_count": 3,
   "metadata": {},
   "outputs": [],
   "source": [
    "cursor.execute('''\n",
    "DROP TABLE CW2.Trail_Attraction\n",
    "DROP TABLE CW2.Trail_LocationPt \n",
    "DROP TABLE CW2.Trail\n",
    "DROP TABLE CW2.Location_Point\n",
    "DROP TABLE CW2.Attraction\n",
    "DROP TABLE CW2.[User]\n",
    "''')\n",
    "conn.commit()"
   ]
  },
  {
   "cell_type": "markdown",
   "metadata": {},
   "source": [
    "# A view to trail and attractions"
   ]
  },
  {
   "cell_type": "code",
   "execution_count": 30,
   "metadata": {},
   "outputs": [],
   "source": [
    "cursor.execute('''\n",
    "\n",
    "CREATE VIEW CW2.TrailView AS\n",
    "SELECT \n",
    "    Trail.trail_id,\n",
    "    Trail.trail_name,\n",
    "    Trail.summary,\n",
    "    Trail.description,\n",
    "    Trail.location,\n",
    "    Trail.traffic,\n",
    "    Trail.difficulty,\n",
    "    Trail.length,\n",
    "    Trail.duration,\n",
    "    Trail.elevation_gain,\n",
    "    Trail.route_type,\n",
    "    Trail.owner_id,\n",
    "    STRING_AGG\n",
    "    (\n",
    "        CONCAT\n",
    "        (\n",
    "            'Latitude: ', Location_Point.latitude, \n",
    "            ', Longitude: ', Location_Point.longitude\n",
    "        ), '; '\n",
    "    ) \n",
    "    AS location_points,\n",
    "    STRING_AGG(Attraction.attraction_name, ', ') AS attractions\n",
    "FROM \n",
    "    CW2.Trail\n",
    "LEFT JOIN \n",
    "    CW2.Trail_LocationPt ON CW2.Trail.trail_id = CW2.Trail_LocationPt.trail_id\n",
    "LEFT JOIN \n",
    "    CW2.Location_Point ON CW2.Trail_LocationPt.location_point_id = CW2.Location_Point.location_point_id\n",
    "LEFT JOIN \n",
    "    CW2.Trail_Attraction ON CW2.Trail.trail_id = CW2.Trail_Attraction.trail_id\n",
    "LEFT JOIN \n",
    "    CW2.Attraction ON CW2.Trail_Attraction.attraction_id = CW2.Attraction.attraction_id\n",
    "GROUP BY \n",
    "    Trail.trail_id,\n",
    "    Trail.trail_name,\n",
    "    Trail.summary,\n",
    "    Trail.description,\n",
    "    Trail.location,\n",
    "    Trail.traffic,\n",
    "    Trail.difficulty,\n",
    "    Trail.length,\n",
    "    Trail.duration,\n",
    "    Trail.elevation_gain,\n",
    "    Trail.route_type,\n",
    "    Trail.owner_id;\n",
    "''')\n",
    "conn.commit()\n"
   ]
  },
  {
   "cell_type": "markdown",
   "metadata": {},
   "source": [
    "# Dropping the view"
   ]
  },
  {
   "cell_type": "code",
   "execution_count": 28,
   "metadata": {},
   "outputs": [],
   "source": [
    "cursor.execute('''\n",
    "DROP VIEW CW2.TrailView\n",
    "''')\n",
    "conn.commit()"
   ]
  },
  {
   "cell_type": "markdown",
   "metadata": {},
   "source": [
    "# Stored Procedures for CRUD for each table"
   ]
  },
  {
   "cell_type": "code",
   "execution_count": 103,
   "metadata": {},
   "outputs": [],
   "source": [
    "cursor.execute('''\n",
    "CREATE PROCEDURE CW2.CreateTrail (@owner_id as INT, @trail_name as VARCHAR(255), @summary as VARCHAR(255),  \n",
    "@description as VARCHAR(1500), @location as VARCHAR(255), @traffic as VARCHAR(8), @difficulty as VARCHAR(8), \n",
    "@length as DECIMAL(7,2), @duration as VARCHAR(5), @elevation_gain as INT, @route_type as VARCHAR(14))\n",
    "AS\n",
    "BEGIN   \n",
    "    INSERT INTO CW2.Trail ( owner_id, trail_name, summary, description, location, traffic, difficulty, length, duration, \n",
    "    elevation_gain, route_type)\n",
    "    VALUES \n",
    "    (@owner_id, @trail_name, @summary, @description, @location, @traffic, @difficulty, @length, @duration,\n",
    "    @elevation_gain, @route_type);\n",
    "END;\n",
    "''')\n",
    "conn.commit()"
   ]
  },
  {
   "cell_type": "code",
   "execution_count": 104,
   "metadata": {},
   "outputs": [],
   "source": [
    "cursor.execute('''\n",
    "CREATE PROCEDURE CW2.RetrieveTrail (@trail_id INT = NULL) AS\n",
    "BEGIN\n",
    "    IF @trail_id IS NULL\n",
    "    BEGIN\n",
    "        SELECT * FROM CW2.TrailView;\n",
    "    END\n",
    "    ELSE\n",
    "    BEGIN\n",
    "        SELECT * FROM CW2.TrailView\n",
    "        WHERE trail_id = @trail_id;\n",
    "    END\n",
    "END\n",
    "''')\n",
    "conn.commit()"
   ]
  },
  {
   "cell_type": "code",
   "execution_count": 105,
   "metadata": {},
   "outputs": [],
   "source": [
    "cursor.execute('''\n",
    "CREATE PROCEDURE CW2.RetrieveTrailByOwner (@owner_id INT) AS\n",
    "BEGIN\n",
    "    SELECT * FROM CW2.TrailView\n",
    "    WHERE owner_id = @owner_id;\n",
    "END\n",
    "''')\n",
    "conn.commit()"
   ]
  },
  {
   "cell_type": "code",
   "execution_count": 106,
   "metadata": {},
   "outputs": [],
   "source": [
    "cursor.execute('''\n",
    "Create PROCEDURE CW2.RetrieveTrailByLocation (@location as VARCHAR(255)) AS\n",
    "BEGIN\n",
    "    SELECT * FROM CW2.TrailView\n",
    "    WHERE location = @location;\n",
    "END\n",
    "''')\n",
    "conn.commit()"
   ]
  },
  {
   "cell_type": "code",
   "execution_count": 107,
   "metadata": {},
   "outputs": [],
   "source": [
    "cursor.execute('''\n",
    "CREATE PROCEDURE CW2.RetrieveTrailByAttraction (@attraction_id INT) AS\n",
    "BEGIN\n",
    "    SELECT * FROM CW2.TrailView\n",
    "    WHERE trail_id IN \n",
    "    (\n",
    "        SELECT trail_id FROM CW2.Trail_Attraction\n",
    "        WHERE attraction_id = @attraction_id\n",
    "    )\n",
    "END\n",
    "''')\n",
    "conn.commit()"
   ]
  },
  {
   "cell_type": "code",
   "execution_count": 108,
   "metadata": {},
   "outputs": [],
   "source": [
    "cursor.execute('''\n",
    "CREATE PROCEDURE CW2.UpdateTrail (@trail_id INT = NULL, @owner_id INT = NULL, @trail_name VARCHAR(255) = NULL, @summary VARCHAR(255) = NULL,  @description VARCHAR(1500) = NULL, \n",
    "@location VARCHAR(255) = NULL, @traffic VARCHAR(8) = NULL, @difficulty VARCHAR(8) = NULL,  @length DECIMAL(7,2) = NULL, @duration VARCHAR(5) = NULL, @elevation_gain INT = NULL, \n",
    "@route_type VARCHAR(14) = NULL)\n",
    "AS\n",
    "BEGIN\n",
    "    BEGIN TRANSACTION;\n",
    "\n",
    "    BEGIN TRY\n",
    "        IF NOT EXISTS (SELECT 1 FROM CW2.Trail WHERE trail_id = @trail_id)\n",
    "        BEGIN\n",
    "            RAISERROR('Trail ID does not exist.', 16, 1);\n",
    "            ROLLBACK TRANSACTION;\n",
    "            RETURN;\n",
    "        END;\n",
    "        UPDATE CW2.Trail\n",
    "        SET\n",
    "            owner_id = ISNULL(@owner_id, owner_id),\n",
    "            trail_name = ISNULL(@trail_name, trail_name),\n",
    "            summary = ISNULL(@summary, summary),\n",
    "            description = ISNULL(@description, description),\n",
    "            location = ISNULL(@location, location),\n",
    "            traffic = ISNULL(@traffic, traffic),\n",
    "            difficulty = ISNULL(@difficulty, difficulty),\n",
    "            length = ISNULL(@length, length),\n",
    "            duration = ISNULL(@duration, duration),\n",
    "            elevation_gain = ISNULL(@elevation_gain, elevation_gain),\n",
    "            route_type = ISNULL(@route_type, route_type)\n",
    "        WHERE trail_id = @trail_id;\n",
    "\n",
    "        COMMIT TRANSACTION;\n",
    "    END TRY\n",
    "    BEGIN CATCH\n",
    "        ROLLBACK TRANSACTION;\n",
    "        THROW;\n",
    "    END CATCH;\n",
    "END;\n",
    "''')\n",
    "conn.commit()"
   ]
  },
  {
   "cell_type": "code",
   "execution_count": 109,
   "metadata": {},
   "outputs": [],
   "source": [
    "cursor.execute('''\n",
    "CREATE PROCEDURE CW2.DeleteTrail(@trail_id as INT) AS\n",
    "BEGIN\n",
    "    DELETE FROM CW2.Trail_Attraction\n",
    "    WHERE trail_id = @trail_id;\n",
    "    DELETE FROM CW2.Trail\n",
    "    WHERE trail_id = @trail_id\n",
    "END\n",
    "''')\n",
    "conn.commit()"
   ]
  },
  {
   "cell_type": "code",
   "execution_count": 110,
   "metadata": {},
   "outputs": [],
   "source": [
    "cursor.execute('''\n",
    "CREATE PROCEDURE CW2.CreateUser (@username as VARCHAR(255), @email as VARCHAR(255), @password as VARCHAR(255), @role as VARCHAR(8))\n",
    "AS\n",
    "BEGIN\n",
    "    INSERT INTO CW2.[User] (username, email, [password], role)\n",
    "    VALUES (@username, @email, @password, @role);\n",
    "END\n",
    "''')\n",
    "conn.commit()"
   ]
  },
  {
   "cell_type": "code",
   "execution_count": 111,
   "metadata": {},
   "outputs": [],
   "source": [
    "cursor.execute('''\n",
    "CREATE PROCEDURE CW2.RetrieveUser (@user_id INT = NULL) AS\n",
    "BEGIN\n",
    "    IF @user_id IS NULL\n",
    "    BEGIN\n",
    "        SELECT * FROM CW2.[User];\n",
    "    END\n",
    "    ELSE\n",
    "    BEGIN\n",
    "        SELECT * FROM CW2.[User]\n",
    "        WHERE user_id = @user_id;\n",
    "    END\n",
    "END\n",
    "''')\n",
    "conn.commit()"
   ]
  },
  {
   "cell_type": "code",
   "execution_count": 112,
   "metadata": {},
   "outputs": [],
   "source": [
    "cursor.execute('''\n",
    "CREATE PROCEDURE CW2.UpdateUser (@user_id as INT = NULL, @username as VARCHAR(255) = NULL, @email as VARCHAR(255) = NULL, @password as VARCHAR(255) = NULL, @role as VARCHAR(8) = NULL)\n",
    "AS\n",
    "BEGIN\n",
    "    BEGIN TRANSACTION;\n",
    "\n",
    "    BEGIN TRY\n",
    "        IF NOT EXISTS (SELECT 1 FROM CW2.[User] WHERE user_id = @user_id)\n",
    "        BEGIN\n",
    "            RAISERROR('User ID does not exist.', 16, 1);\n",
    "            ROLLBACK TRANSACTION;\n",
    "            RETURN;\n",
    "        END;\n",
    "        UPDATE CW2.[User]\n",
    "        SET\n",
    "            username = ISNULL(@username, username),\n",
    "            email = ISNULL(@email, email),\n",
    "            [password] = ISNULL(@password, [password]),\n",
    "            role = ISNULL(@role, role)\n",
    "        WHERE user_id = @user_id;\n",
    "\n",
    "        COMMIT TRANSACTION;\n",
    "    END TRY\n",
    "    BEGIN CATCH\n",
    "        ROLLBACK TRANSACTION;\n",
    "        THROW;\n",
    "    END CATCH\n",
    "END;\n",
    "''')\n",
    "conn.commit()"
   ]
  },
  {
   "cell_type": "code",
   "execution_count": 113,
   "metadata": {},
   "outputs": [],
   "source": [
    "cursor.execute('''\n",
    "CREATE PROCEDURE CW2.DeleteUser(@user_id as INT) AS\n",
    "BEGIN\n",
    "    DELETE FROM CW2.Trail\n",
    "    WHERE owner_id = @user_id\n",
    "    DELETE FROM CW2.[User]\n",
    "    WHERE user_id = @user_id\n",
    "END\n",
    "''')\n",
    "conn.commit()"
   ]
  },
  {
   "cell_type": "code",
   "execution_count": 114,
   "metadata": {},
   "outputs": [],
   "source": [
    "cursor.execute('''\n",
    "CREATE PROCEDURE CW2.CreateLocationPoint (@latitude as DECIMAL(9,6), @longitude as DECIMAL(9,6), @description as VARCHAR(255))\n",
    "AS\n",
    "BEGIN\n",
    "    INSERT INTO CW2.Location_Point  (latitude, longitude, description)\n",
    "    VALUES (@latitude, @longitude, @description);\n",
    "END\n",
    "''')\n",
    "conn.commit()"
   ]
  },
  {
   "cell_type": "code",
   "execution_count": 115,
   "metadata": {},
   "outputs": [],
   "source": [
    "cursor.execute('''\n",
    "CREATE PROCEDURE CW2.RetrieveLocationPoint (@location_point_id INT = NULL) AS\n",
    "BEGIN\n",
    "    IF @location_point_id IS NULL\n",
    "    BEGIN\n",
    "        SELECT * FROM CW2.Location_Point;\n",
    "    END\n",
    "    ELSE\n",
    "    BEGIN\n",
    "        SELECT * FROM CW2.Location_Point\n",
    "        WHERE location_point_id = @location_point_id;\n",
    "    END\n",
    "END\n",
    "''')\n",
    "conn.commit()"
   ]
  },
  {
   "cell_type": "code",
   "execution_count": 116,
   "metadata": {},
   "outputs": [],
   "source": [
    "cursor.execute('''\n",
    "CREATE PROCEDURE CW2.UpdateLocationPoint (@location_point_id as INT = NULL, @latitude as DECIMAL(9,6) = NULL, @longitude as DECIMAL(9,6) = NULL, @description as VARCHAR(255) = NULL)\n",
    "AS\n",
    "BEGIN\n",
    "    BEGIN TRANSACTION;\n",
    "\n",
    "    BEGIN TRY\n",
    "        IF NOT EXISTS (SELECT 1 FROM CW2.Location_Point WHERE location_point_id = @location_point_id)\n",
    "        BEGIN\n",
    "            RAISERROR('Location Point ID does not exist.', 16, 1);\n",
    "            ROLLBACK TRANSACTION;\n",
    "            RETURN;\n",
    "        END;\n",
    "        UPDATE CW2.Location_Point\n",
    "        SET\n",
    "            latitude = ISNULL(@latitude, latitude),\n",
    "            longitude = ISNULL(@longitude, longitude),\n",
    "            description = ISNULL(@description, description)\n",
    "        WHERE location_point_id = @location_point_id;\n",
    "\n",
    "        COMMIT TRANSACTION;\n",
    "    END TRY\n",
    "    BEGIN CATCH\n",
    "        ROLLBACK TRANSACTION;\n",
    "        THROW;\n",
    "    END CATCH\n",
    "END;\n",
    "''')\n",
    "conn.commit()"
   ]
  },
  {
   "cell_type": "code",
   "execution_count": 117,
   "metadata": {},
   "outputs": [],
   "source": [
    "cursor.execute('''\n",
    "CREATE PROCEDURE CW2.DeleteLocationPoint(@location_point_id INT) AS\n",
    "BEGIN\n",
    "    DELETE FROM CW2.TrailLocationPt\n",
    "    WHERE location_point_id = @location_point_id;\n",
    "\n",
    "    DELETE FROM CW2.Location_Point\n",
    "    WHERE location_point_id = @location_point_id;\n",
    "END\n",
    "''')\n",
    "conn.commit()"
   ]
  },
  {
   "cell_type": "code",
   "execution_count": 118,
   "metadata": {},
   "outputs": [],
   "source": [
    "cursor.execute('''\n",
    "CREATE PROCEDURE CW2.CreateAttraction (@attraction_name as VARCHAR(255))\n",
    "AS\n",
    "BEGIN\n",
    "    INSERT INTO CW2.Attraction (attraction_name)\n",
    "    VALUES (@attraction_name);\n",
    "END\n",
    "''')\n",
    "conn.commit()"
   ]
  },
  {
   "cell_type": "code",
   "execution_count": 119,
   "metadata": {},
   "outputs": [],
   "source": [
    "cursor.execute('''\n",
    "CREATE PROCEDURE CW2.RetrieveAttraction (@attraction_id INT = NULL) AS\n",
    "BEGIN\n",
    "    IF @attraction_id IS NULL\n",
    "    BEGIN\n",
    "        SELECT * FROM CW2.Attraction;\n",
    "    END\n",
    "    ELSE\n",
    "    BEGIN\n",
    "        SELECT * FROM CW2.Attraction\n",
    "        WHERE attraction_id = @attraction_id;\n",
    "    END\n",
    "END\n",
    "''')\n",
    "conn.commit()"
   ]
  },
  {
   "cell_type": "code",
   "execution_count": 120,
   "metadata": {},
   "outputs": [],
   "source": [
    "cursor.execute('''\n",
    "CREATE PROCEDURE CW2.UpdateAttraction (@attraction_id as INT = NULL, @attraction_name as VARCHAR(255) = NULL)\n",
    "AS\n",
    "BEGIN\n",
    "    BEGIN TRANSACTION;\n",
    "\n",
    "    BEGIN TRY\n",
    "        IF NOT EXISTS (SELECT 1 FROM CW2.Attraction WHERE attraction_id = @attraction_id)\n",
    "        BEGIN\n",
    "            RAISERROR('Attraction ID does not exist.', 16, 1);\n",
    "            ROLLBACK TRANSACTION;\n",
    "            RETURN;\n",
    "        END;\n",
    "        UPDATE CW2.Attraction\n",
    "        SET\n",
    "            attraction_name = ISNULL(@attraction_name, attraction_name)\n",
    "        WHERE attraction_id = @attraction_id;\n",
    "\n",
    "        COMMIT TRANSACTION;\n",
    "    END TRY\n",
    "    BEGIN CATCH\n",
    "        ROLLBACK TRANSACTION;\n",
    "        THROW;\n",
    "    END CATCH\n",
    "END;\n",
    "''')\n",
    "conn.commit()"
   ]
  },
  {
   "cell_type": "code",
   "execution_count": 121,
   "metadata": {},
   "outputs": [],
   "source": [
    "cursor.execute('''\n",
    "CREATE PROCEDURE CW2.DeleteAttraction(@attraction_id as INT) AS\n",
    "BEGIN\n",
    "    DELETE FROM CW2.Trail_Attraction\n",
    "    WHERE attraction_id = @attraction_id\n",
    "    DELETE FROM CW2.Attraction\n",
    "    WHERE attraction_id = @attraction_id\n",
    "END\n",
    "''')\n",
    "conn.commit()"
   ]
  },
  {
   "cell_type": "code",
   "execution_count": 122,
   "metadata": {},
   "outputs": [],
   "source": [
    "cursor.execute('''\n",
    "CREATE PROCEDURE CW2.CreateTrailAttraction (@trail_id as INT, @attraction_id as INT)\n",
    "AS\n",
    "BEGIN\n",
    "    INSERT INTO CW2.Trail_Attraction (trail_id, attraction_id)\n",
    "    VALUES (@trail_id, @attraction_id);\n",
    "END\n",
    "''')\n",
    "conn.commit()"
   ]
  },
  {
   "cell_type": "code",
   "execution_count": 123,
   "metadata": {},
   "outputs": [],
   "source": [
    "cursor.execute('''\n",
    "CREATE PROCEDURE CW2.RetrieveTrailAttraction (@trail_id INT = NULL, @attraction_id INT = NULL) AS\n",
    "BEGIN\n",
    "    IF @trail_id IS NULL AND @attraction_id IS NULL\n",
    "    BEGIN\n",
    "        SELECT * FROM CW2.Trail_Attraction;\n",
    "    END\n",
    "    ELSE IF @trail_id IS NOT NULL AND @attraction_id IS NULL\n",
    "    BEGIN\n",
    "        SELECT * FROM CW2.Trail_Attraction\n",
    "        WHERE trail_id = @trail_id;\n",
    "    END\n",
    "    ELSE IF @trail_id IS NULL AND @attraction_id IS NOT NULL\n",
    "    BEGIN\n",
    "        SELECT * FROM CW2.Trail_Attraction\n",
    "        WHERE attraction_id = @attraction_id;\n",
    "    END\n",
    "    ELSE\n",
    "    BEGIN\n",
    "        SELECT * FROM CW2.Trail_Attraction\n",
    "        WHERE trail_id = @trail_id AND attraction_id = @attraction_id;\n",
    "    END\n",
    "END\n",
    "''')\n",
    "conn.commit()"
   ]
  },
  {
   "cell_type": "code",
   "execution_count": 124,
   "metadata": {},
   "outputs": [],
   "source": [
    "cursor.execute('''\n",
    "CREATE PROCEDURE CW2.DeleteTrailAttraction(@trail_id as INT, @attraction_id as INT) AS\n",
    "BEGIN\n",
    "    DELETE FROM CW2.Trail_Attraction\n",
    "    WHERE trail_id = @trail_id AND attraction_id = @attraction_id\n",
    "END\n",
    "''')\n",
    "conn.commit()"
   ]
  },
  {
   "cell_type": "code",
   "execution_count": 125,
   "metadata": {},
   "outputs": [],
   "source": [
    "cursor.execute('''\n",
    "CREATE PROCEDURE CW2.CreateTrailLocationPt (@trail_id as INT, @location_point_id as INT, @order_number as INT)\n",
    "AS\n",
    "BEGIN\n",
    "    INSERT INTO CW2.Trail_LocationPt (trail_id, location_point_id, order_number)\n",
    "    VALUES (@trail_id, @location_point_id, @order_number);\n",
    "END\n",
    "               \n",
    "''')\n",
    "conn.commit()"
   ]
  },
  {
   "cell_type": "code",
   "execution_count": 126,
   "metadata": {},
   "outputs": [],
   "source": [
    "cursor.execute('''\n",
    "CREATE PROCEDURE CW2.RetrieveTrailLocationPt (@trail_id INT = NULL, @location_point_id INT = NULL) AS\n",
    "BEGIN\n",
    "    IF @trail_id IS NULL AND @location_point_id IS NULL\n",
    "    BEGIN\n",
    "        SELECT * FROM CW2.Trail_LocationPt;\n",
    "    END\n",
    "    ELSE IF @trail_id IS NOT NULL AND @location_point_id IS NULL\n",
    "    BEGIN\n",
    "        SELECT * FROM CW2.Trail_LocationPt\n",
    "        WHERE trail_id = @trail_id;\n",
    "    END\n",
    "    ELSE IF @trail_id IS NULL AND @location_point_id IS NOT NULL\n",
    "    BEGIN\n",
    "        SELECT * FROM CW2.Trail_LocationPt\n",
    "        WHERE location_point_id = @location_point_id;\n",
    "    END\n",
    "    ELSE\n",
    "    BEGIN\n",
    "        SELECT * FROM CW2.Trail_LocationPt\n",
    "        WHERE trail_id = @trail_id AND location_point_id = @location_point_id;\n",
    "    END\n",
    "END\n",
    "''')\n",
    "conn.commit()"
   ]
  },
  {
   "cell_type": "code",
   "execution_count": 127,
   "metadata": {},
   "outputs": [],
   "source": [
    "cursor.execute(''' \n",
    "CREATE PROCEDURE CW2.UpdateTrailLocationPt (@trail_id as INT, @location_point_id as INT, @order_number as INT)\n",
    "AS\n",
    "BEGIN\n",
    "    BEGIN TRANSACTION;\n",
    "\n",
    "    BEGIN TRY\n",
    "        IF NOT EXISTS (SELECT 1 FROM CW2.Trail_LocationPt WHERE trail_id = @trail_id AND location_point_id = @location_point_id)\n",
    "        BEGIN\n",
    "            RAISERROR('Trail ID and Location Point ID combination does not exist.', 16, 1);\n",
    "            ROLLBACK TRANSACTION;\n",
    "            RETURN;\n",
    "        END;\n",
    "        UPDATE CW2.Trail_LocationPt\n",
    "        SET\n",
    "            order_number = @order_number\n",
    "        WHERE trail_id = @trail_id AND location_point_id = @location_point_id;\n",
    "\n",
    "        COMMIT TRANSACTION;\n",
    "    END TRY\n",
    "    BEGIN CATCH\n",
    "        ROLLBACK TRANSACTION;\n",
    "        THROW;\n",
    "    END CATCH\n",
    "END;\n",
    "''')\n",
    "conn.commit()"
   ]
  },
  {
   "cell_type": "code",
   "execution_count": 128,
   "metadata": {},
   "outputs": [],
   "source": [
    "cursor.execute('''\n",
    "CREATE PROCEDURE CW2.DeleteTrailLocationPt(@trail_id as INT, @location_point_id as INT) AS\n",
    "BEGIN\n",
    "    DELETE FROM CW2.Trail_LocationPt\n",
    "    WHERE trail_id = @trail_id AND location_point_id = @location_point_id\n",
    "END\n",
    "''')\n",
    "conn.commit()"
   ]
  },
  {
   "cell_type": "markdown",
   "metadata": {},
   "source": [
    "# Dropping all procedures"
   ]
  },
  {
   "cell_type": "code",
   "execution_count": 102,
   "metadata": {},
   "outputs": [],
   "source": [
    "cursor.execute('''\n",
    "DROP PROCEDURE CW2.CreateTrail\n",
    "DROP PROCEDURE CW2.RetrieveTrail\n",
    "DROP PROCEDURE CW2.RetrieveTrailByOwner\n",
    "DROP PROCEDURE CW2.RetrieveTrailByLocation\n",
    "DROP PROCEDURE CW2.RetrieveTrailByAttraction\n",
    "DROP PROCEDURE CW2.UpdateTrail\n",
    "DROP PROCEDURE CW2.DeleteTrail\n",
    "DROP PROCEDURE CW2.CreateUser\n",
    "DROP PROCEDURE CW2.RetrieveUser\n",
    "DROP PROCEDURE CW2.UpdateUser\n",
    "DROP PROCEDURE CW2.DeleteUser\n",
    "DROP PROCEDURE CW2.CreateLocationPoint\n",
    "DROP PROCEDURE CW2.RetrieveLocationPoint\n",
    "DROP PROCEDURE CW2.UpdateLocationPoint\n",
    "DROP PROCEDURE CW2.DeleteLocationPoint\n",
    "DROP PROCEDURE CW2.CreateAttraction\n",
    "DROP PROCEDURE CW2.RetrieveAttraction\n",
    "DROP PROCEDURE CW2.UpdateAttraction\n",
    "DROP PROCEDURE CW2.DeleteAttraction\n",
    "DROP PROCEDURE CW2.CreateTrailAttraction\n",
    "DROP PROCEDURE CW2.RetrieveTrailAttraction\n",
    "DROP PROCEDURE CW2.DeleteTrailAttraction\n",
    "DROP PROCEDURE CW2.CreateTrailLocationPt\n",
    "DROP PROCEDURE CW2.RetrieveTrailLocationPt\n",
    "DROP PROCEDURE CW2.UpdateTrailLocationPt\n",
    "DROP PROCEDURE CW2.DeleteTrailLocationPt\n",
    "''')\n",
    "conn.commit()\n"
   ]
  }
 ],
 "metadata": {
  "kernelspec": {
   "display_name": "Python 3",
   "language": "python",
   "name": "python3"
  },
  "language_info": {
   "codemirror_mode": {
    "name": "ipython",
    "version": 3
   },
   "file_extension": ".py",
   "mimetype": "text/x-python",
   "name": "python",
   "nbconvert_exporter": "python",
   "pygments_lexer": "ipython3",
   "version": "3.12.8"
  }
 },
 "nbformat": 4,
 "nbformat_minor": 2
}
